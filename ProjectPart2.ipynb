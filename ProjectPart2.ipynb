{
 "cells": [
  {
   "cell_type": "markdown",
   "metadata": {},
   "source": [
    "# Emotional Consistency among Political Ideologies: An Approach to Address Polarization on Youtube\n",
    "\n",
    "Group 5:\n",
    "- Chance Landis (ChancL), Hanna Lee (Lee10), Jason Sun (YongXs), Andy Wong (WongA22)"
   ]
  },
  {
   "cell_type": "markdown",
   "metadata": {},
   "source": [
    "## Credit Listing\n",
    "- Hanna: Democratic-leaning Channels Data Collection\n",
    "- Chance: Republican-leaning Channels Data Collection\n",
    "- Andy: Exploratory Data Analysis\n",
    "- Jason: Text Documentation\n",
    "\n",
    "## Problem Statement\n",
    "We want to figure out whether the current political polarization is associated with the emotional values expressed by each party. Due to the current politically charged environment of our country, the semblance of sympathizing toward a value that is not related to your political party causes backlash. This fear of backlash can create a “false” polarized environment, which is an extension of the fear itself. The question that arises is whether these boundaries are reinforced by the people themselves and/or  external factors, like social media.\n",
    "\n",
    "## Research Question\n",
    "1. Do political parties exhibit similar emotional responses to differing ideologies?\n",
    "\n",
    "## Data Collection\n",
    "To investigate this topic, we will analyze content from the top five YouTube channels associated with Democratic and Republican viewpoints, based on subscriber counts. The channels selected for the study are:\n",
    "\n",
    "- **Democratic-leaning Channels**: Vice, Vox, MSNBC, The Daily Show, The Young Turks\n",
    "- **Republican-leaning Channels**: Fox News, Ben Shapiro, Steven Crowder, The Daily Mail, The Daily Wire\n",
    "\n",
    "We have identified eight key ideologies for this analysis to understand if there are emotional differences in how political parties discuss these topics. For each ideology, a set of keywords has been established to facilitate data scraping:\n",
    "a\n",
    "- **ISIS**: Terrorism, Extremism, Radical\n",
    "- **Guns**: Shootings, School shooting, Firearms, Gun control, NRA, Second Amendment\n",
    "- **Immigration**: Border control, Mexico, Visa /Citizenship, Asylum, Deportation, Refugee\n",
    "- **Economy**: Budget deficit, Unemployment, Inflation, Interest rate, Federal Reserve, Market, Employment\n",
    "- **Health care**: Medicaid, Covid, Obamacare, Public health, Insurance\n",
    "- **Socio-economic**: Rich / poor, Income inequality, Poverty, Wealth distribution\n",
    "- **Abortion**: Pregnancy, Unwanted Pregnancy, Roe, Wade, Abortion, Pro-life, Rape, Incest, Life of mother, Religion\n",
    "- **Climate change**: Global Warming, Carbo, Alternative Energy, Climate, Methane, Emissions, Gas, Greenhouse"
   ]
  },
  {
   "cell_type": "markdown",
   "metadata": {},
   "source": [
    "### Sources of Information\n",
    "- **AllSides**: A media bias tool that provides a rating based on \"multi-partisan Editorial Reviews by trained experts and Blind Bias Surveys™ in which participants rate content without knowing the source.\" We used this tool to determine how we should classify the most popular (based on subscriber count) YouTube channels we found. (Source: https://www.allsides.com/media-bias/media-bias-rating-methods)\n",
    "- **HypeAuitor**: A company that uses a data-driven approach to influencer marketing. In the process, they collated lists of YouTube based on category, subscriber count, and country. This allowed us to find YouTube channels that focused on news and politics with the most subscribers. (Source: https://hypeauditor.com/about/company/, https://hypeauditor.com/top-youtube-news-politics-united-states/)\n",
    "- **Pew Research Center**: A nonpartisan, nonprofit organization that conducts research on public opinion, demographic trends, and social issues. It provides data-driven insights into various aspects of social science issues, explicitly stating they do not take a stance on political issues. For our research, we relied on their studies on political ideologies and alignment with political parties as a reference. (Source: https://www.pewresearch.org/about/, https://www.pewresearch.org/politics/2016/06/22/5-views-of-parties-positions-on-issues-ideologies/)\n",
    "- **YouTube**: As a group, we've chosen to expand our collection of YouTube videos by selecting additional keywords associated with the ideology we're studying. Our focus will be on gathering comments from these videos to conduct our research.\n",
    "    - We used a combination of Andy and Hanna's code to get the comments from YouTube channels."
   ]
  },
  {
   "cell_type": "code",
   "execution_count": 58,
   "metadata": {},
   "outputs": [],
   "source": [
    "# imports\n",
    "import json\n",
    "import pandas as pd\n",
    "\n",
    "import nltk\n",
    "\n",
    "import googleapiclient\n",
    "import googleapiclient.discovery\n",
    "import googleapiclient.errors\n",
    "from googleapiclient.errors import HttpError\n",
    "\n",
    "import re\n",
    "import datetime\n",
    "from datetime import datetime\n",
    "from nltk.corpus import stopwords\n",
    "from nltk.stem import PorterStemmer\n",
    "from nltk.tokenize import word_tokenize\n",
    "from nltk.tokenize import casual\n",
    "\n",
    "from nrclex import NRCLex\n",
    "\n",
    "import matplotlib.pyplot as plt"
   ]
  },
  {
   "cell_type": "code",
   "execution_count": 5,
   "metadata": {},
   "outputs": [],
   "source": [
    "# Function for Text Cleaning\n",
    "def textcleaner(row):\n",
    "    row = str(row)\n",
    "    row = row.lower()\n",
    "    # remove punctuation\n",
    "    row = re.sub(r'[^\\w\\s]', '', row)\n",
    "    #remove urls\n",
    "    row  = re.sub(r'http\\S+', '', row)\n",
    "    #remove mentions\n",
    "    row = re.sub(r\"(?<![@\\w])@(\\w{1,25})\", '', row)\n",
    "    #remove hashtags\n",
    "    row = re.sub(r\"(?<![#\\w])#(\\w{1,25})\", '',row)\n",
    "    #remove other special characters\n",
    "    row = re.sub('[^A-Za-z .-]+', '', row)\n",
    "        #remove digits\n",
    "    row = re.sub('\\d+', '', row)\n",
    "    row = row.strip(\" \")\n",
    "    row = re.sub('\\s+', ' ', row)\n",
    "    return row\n",
    "    \n",
    "# Function for Stopword Removal\n",
    "stopeng = set(stopwords.words('english'))\n",
    "def remove_stop(text):\n",
    "    try:\n",
    "        words = text.split(' ')\n",
    "        valid = [x for x in words if x not in stopeng]\n",
    "        return(' '.join(valid))\n",
    "    except AttributeError:\n",
    "        return('')\n",
    "\n",
    "# Function for Checking NRC Lexicon Sentiment (Pos / Neg)\n",
    "def nrc_sen(text, cat):\n",
    "    sen = NRCLex(text)\n",
    "    if cat == 'pos':\n",
    "        return sen.affect_frequencies['positive']\n",
    "    else:\n",
    "        return sen.affect_frequencies['negative']\n",
    "    \n",
    "# Function for checking NRC Lexicon Emotion (Returns highest emotion)\n",
    "def nrc_emo(text, ver):\n",
    "    emo = NRCLex(text).affect_frequencies\n",
    "    max_emo = max(emo, key=emo.get)\n",
    "    max_score = emo[max_emo]\n",
    "    if ver == 'score':\n",
    "        return max_score\n",
    "    else:\n",
    "        return max_emo"
   ]
  },
  {
   "cell_type": "markdown",
   "metadata": {},
   "source": [
    "# Democratic Data"
   ]
  },
  {
   "cell_type": "code",
   "execution_count": 29,
   "metadata": {},
   "outputs": [
    {
     "data": {
      "text/html": [
       "<div>\n",
       "<style scoped>\n",
       "    .dataframe tbody tr th:only-of-type {\n",
       "        vertical-align: middle;\n",
       "    }\n",
       "\n",
       "    .dataframe tbody tr th {\n",
       "        vertical-align: top;\n",
       "    }\n",
       "\n",
       "    .dataframe thead th {\n",
       "        text-align: right;\n",
       "    }\n",
       "</style>\n",
       "<table border=\"1\" class=\"dataframe\">\n",
       "  <thead>\n",
       "    <tr style=\"text-align: right;\">\n",
       "      <th></th>\n",
       "      <th>channel</th>\n",
       "      <th>id</th>\n",
       "      <th>title</th>\n",
       "      <th>keyword</th>\n",
       "      <th>published_at</th>\n",
       "      <th>VideoViews</th>\n",
       "      <th>VideoId</th>\n",
       "      <th>CommentId</th>\n",
       "      <th>CommentTitle</th>\n",
       "      <th>CommentCreationTime</th>\n",
       "      <th>CommentLikes</th>\n",
       "    </tr>\n",
       "  </thead>\n",
       "  <tbody>\n",
       "    <tr>\n",
       "      <th>0</th>\n",
       "      <td>Vice</td>\n",
       "      <td>qX_aaRepdIM</td>\n",
       "      <td>Running a Nightclub During a Pandemic</td>\n",
       "      <td>Pandemics</td>\n",
       "      <td>2020-09-23T19:00:18Z</td>\n",
       "      <td>137070</td>\n",
       "      <td>qX_aaRepdIM</td>\n",
       "      <td>UgyT8lzHq4KG18pbEAx4AaABAg</td>\n",
       "      <td>A lot of businesses are struggling. The ones t...</td>\n",
       "      <td>2020-09-23T19:56:07Z</td>\n",
       "      <td>75</td>\n",
       "    </tr>\n",
       "    <tr>\n",
       "      <th>1</th>\n",
       "      <td>Vice</td>\n",
       "      <td>qX_aaRepdIM</td>\n",
       "      <td>Running a Nightclub During a Pandemic</td>\n",
       "      <td>Pandemics</td>\n",
       "      <td>2020-09-23T19:00:18Z</td>\n",
       "      <td>137070</td>\n",
       "      <td>qX_aaRepdIM</td>\n",
       "      <td>UgwWciuwhjWJtn5p2B54AaABAg</td>\n",
       "      <td>Damn the World really sucks now.\\nLooking forw...</td>\n",
       "      <td>2020-09-23T20:42:39Z</td>\n",
       "      <td>89</td>\n",
       "    </tr>\n",
       "    <tr>\n",
       "      <th>2</th>\n",
       "      <td>Vice</td>\n",
       "      <td>qX_aaRepdIM</td>\n",
       "      <td>Running a Nightclub During a Pandemic</td>\n",
       "      <td>Pandemics</td>\n",
       "      <td>2020-09-23T19:00:18Z</td>\n",
       "      <td>137070</td>\n",
       "      <td>qX_aaRepdIM</td>\n",
       "      <td>UgxAbD9h5oBPSxaRgvN4AaABAg</td>\n",
       "      <td>Sadly I think at least 50% of clubs, bars and ...</td>\n",
       "      <td>2020-09-24T08:16:30Z</td>\n",
       "      <td>45</td>\n",
       "    </tr>\n",
       "    <tr>\n",
       "      <th>3</th>\n",
       "      <td>Vice</td>\n",
       "      <td>qX_aaRepdIM</td>\n",
       "      <td>Running a Nightclub During a Pandemic</td>\n",
       "      <td>Pandemics</td>\n",
       "      <td>2020-09-23T19:00:18Z</td>\n",
       "      <td>137070</td>\n",
       "      <td>qX_aaRepdIM</td>\n",
       "      <td>Ugx5ivt655zG1cctmVJ4AaABAg</td>\n",
       "      <td>I love Plant. It was one of the highlights to ...</td>\n",
       "      <td>2020-09-27T21:20:05Z</td>\n",
       "      <td>4</td>\n",
       "    </tr>\n",
       "    <tr>\n",
       "      <th>4</th>\n",
       "      <td>Vice</td>\n",
       "      <td>qX_aaRepdIM</td>\n",
       "      <td>Running a Nightclub During a Pandemic</td>\n",
       "      <td>Pandemics</td>\n",
       "      <td>2020-09-23T19:00:18Z</td>\n",
       "      <td>137070</td>\n",
       "      <td>qX_aaRepdIM</td>\n",
       "      <td>UgztX1erPMN0W9t8tWZ4AaABAg</td>\n",
       "      <td>\"AKA DJ Bowlcut\" lmao 😂😅😅</td>\n",
       "      <td>2020-09-23T19:31:59Z</td>\n",
       "      <td>53</td>\n",
       "    </tr>\n",
       "  </tbody>\n",
       "</table>\n",
       "</div>"
      ],
      "text/plain": [
       "  channel           id                                  title    keyword  \\\n",
       "0    Vice  qX_aaRepdIM  Running a Nightclub During a Pandemic  Pandemics   \n",
       "1    Vice  qX_aaRepdIM  Running a Nightclub During a Pandemic  Pandemics   \n",
       "2    Vice  qX_aaRepdIM  Running a Nightclub During a Pandemic  Pandemics   \n",
       "3    Vice  qX_aaRepdIM  Running a Nightclub During a Pandemic  Pandemics   \n",
       "4    Vice  qX_aaRepdIM  Running a Nightclub During a Pandemic  Pandemics   \n",
       "\n",
       "           published_at  VideoViews      VideoId                   CommentId  \\\n",
       "0  2020-09-23T19:00:18Z      137070  qX_aaRepdIM  UgyT8lzHq4KG18pbEAx4AaABAg   \n",
       "1  2020-09-23T19:00:18Z      137070  qX_aaRepdIM  UgwWciuwhjWJtn5p2B54AaABAg   \n",
       "2  2020-09-23T19:00:18Z      137070  qX_aaRepdIM  UgxAbD9h5oBPSxaRgvN4AaABAg   \n",
       "3  2020-09-23T19:00:18Z      137070  qX_aaRepdIM  Ugx5ivt655zG1cctmVJ4AaABAg   \n",
       "4  2020-09-23T19:00:18Z      137070  qX_aaRepdIM  UgztX1erPMN0W9t8tWZ4AaABAg   \n",
       "\n",
       "                                        CommentTitle   CommentCreationTime  \\\n",
       "0  A lot of businesses are struggling. The ones t...  2020-09-23T19:56:07Z   \n",
       "1  Damn the World really sucks now.\\nLooking forw...  2020-09-23T20:42:39Z   \n",
       "2  Sadly I think at least 50% of clubs, bars and ...  2020-09-24T08:16:30Z   \n",
       "3  I love Plant. It was one of the highlights to ...  2020-09-27T21:20:05Z   \n",
       "4                          \"AKA DJ Bowlcut\" lmao 😂😅😅  2020-09-23T19:31:59Z   \n",
       "\n",
       "   CommentLikes  \n",
       "0            75  \n",
       "1            89  \n",
       "2            45  \n",
       "3             4  \n",
       "4            53  "
      ]
     },
     "execution_count": 29,
     "metadata": {},
     "output_type": "execute_result"
    }
   ],
   "source": [
    "# Data Loading + Preview\n",
    "demo_df = pd.read_csv('democrat_comments.csv')\n",
    "demo_df.head()"
   ]
  },
  {
   "cell_type": "code",
   "execution_count": 30,
   "metadata": {},
   "outputs": [
    {
     "name": "stdout",
     "output_type": "stream",
     "text": [
      "DF Dimensions: (11662, 11)\n",
      "channel: <class 'str'>\n",
      "id: <class 'str'>\n",
      "title: <class 'str'>\n",
      "keyword: <class 'str'>\n",
      "published_at: <class 'str'>\n",
      "VideoViews: <class 'numpy.int64'>\n",
      "VideoId: <class 'str'>\n",
      "CommentId: <class 'str'>\n",
      "CommentTitle: <class 'str'>\n",
      "CommentCreationTime: <class 'str'>\n",
      "CommentLikes: <class 'numpy.int64'>\n"
     ]
    }
   ],
   "source": [
    "# Basic DF Properties\n",
    "print('DF Dimensions: ' + str(demo_df.shape))\n",
    "for row in demo_df:\n",
    "    print('%s: ' %row + str(type(demo_df[row][0])))"
   ]
  },
  {
   "cell_type": "code",
   "execution_count": 31,
   "metadata": {},
   "outputs": [
    {
     "name": "stdout",
     "output_type": "stream",
     "text": [
      "Rows with NaN: 0\n"
     ]
    }
   ],
   "source": [
    "# Check for NaN and drop NaN\n",
    "print('Rows with NaN: ' + str(sum(demo_df.isna().sum(axis=1))))\n",
    "demo_df = demo_df.dropna()"
   ]
  },
  {
   "cell_type": "code",
   "execution_count": 32,
   "metadata": {},
   "outputs": [
    {
     "name": "stdout",
     "output_type": "stream",
     "text": [
      "Title Example:\n",
      "Running a Nightclub During a Pandemic\n",
      "\n",
      "Comment Example\n",
      "A lot of businesses are struggling. The ones that aren’t struggling as much are banks and grocery stores.\n"
     ]
    }
   ],
   "source": [
    "# Change date columns to a date type\n",
    "demo_df['published_at'] = demo_df['published_at'].apply(lambda x: datetime.strptime(str(x)[0:10], '%Y-%m-%d').date())\n",
    "demo_df['CommentCreationTime'] = demo_df['CommentCreationTime'].apply(lambda x: datetime.strptime(str(x)[0:10], '%Y-%m-%d').date())\n",
    "print('Title Example:')\n",
    "print(demo_df['title'][0])\n",
    "print()\n",
    "print('Comment Example')\n",
    "print(demo_df['CommentTitle'][0])"
   ]
  },
  {
   "cell_type": "code",
   "execution_count": 36,
   "metadata": {},
   "outputs": [
    {
     "name": "stdout",
     "output_type": "stream",
     "text": [
      "Title Example:\n",
      "['Running', 'a', 'Nightclub', 'During', 'a', 'Pandemic']\n",
      "\n",
      "Comment Example\n",
      "['A', 'lot', 'of', 'businesses', 'are', 'struggling', '.', 'The', 'ones', 'that', 'aren', '’', 't', 'struggling', 'as', 'much', 'are', 'banks', 'and', 'grocery', 'stores', '.']\n"
     ]
    }
   ],
   "source": [
    "# Tokenize\n",
    "demo_df['TitleToken'] = demo_df['title'].apply(lambda x: casual.TweetTokenizer().tokenize(x))\n",
    "demo_df['CommentToken'] = demo_df['CommentTitle'].apply(lambda x: casual.TweetTokenizer().tokenize(x))\n",
    "print('Title Example:')\n",
    "print(demo_df['TitleToken'][0])\n",
    "print()\n",
    "print('Comment Example')\n",
    "print(demo_df['CommentToken'][0])"
   ]
  },
  {
   "cell_type": "code",
   "execution_count": 37,
   "metadata": {},
   "outputs": [
    {
     "name": "stdout",
     "output_type": "stream",
     "text": [
      "Title Example:\n",
      "running nightclub pandemic\n",
      "\n",
      "Comment Example\n",
      "lot businesses struggling ones struggling much banks grocery stores\n"
     ]
    }
   ],
   "source": [
    "# Clean text\n",
    "demo_df['TitleCleaned'] = demo_df['TitleToken'].apply(lambda x: remove_stop(textcleaner(x)))\n",
    "demo_df['CommentCleaned'] = demo_df['CommentToken'].apply(lambda x: remove_stop(textcleaner(x)))\n",
    "print('Title Example:')\n",
    "print(demo_df['TitleCleaned'][0])\n",
    "print()\n",
    "print('Comment Example')\n",
    "print(demo_df['CommentCleaned'][0])"
   ]
  },
  {
   "cell_type": "code",
   "execution_count": 39,
   "metadata": {},
   "outputs": [
    {
     "data": {
      "text/html": [
       "<div>\n",
       "<style scoped>\n",
       "    .dataframe tbody tr th:only-of-type {\n",
       "        vertical-align: middle;\n",
       "    }\n",
       "\n",
       "    .dataframe tbody tr th {\n",
       "        vertical-align: top;\n",
       "    }\n",
       "\n",
       "    .dataframe thead th {\n",
       "        text-align: right;\n",
       "    }\n",
       "</style>\n",
       "<table border=\"1\" class=\"dataframe\">\n",
       "  <thead>\n",
       "    <tr style=\"text-align: right;\">\n",
       "      <th></th>\n",
       "      <th>TitleCleaned</th>\n",
       "      <th>TitlePos</th>\n",
       "      <th>TitleNeg</th>\n",
       "      <th>CommentCleaned</th>\n",
       "      <th>CommentPos</th>\n",
       "      <th>CommentNeg</th>\n",
       "    </tr>\n",
       "  </thead>\n",
       "  <tbody>\n",
       "    <tr>\n",
       "      <th>0</th>\n",
       "      <td>running nightclub pandemic</td>\n",
       "      <td>0.0</td>\n",
       "      <td>0.333333</td>\n",
       "      <td>lot businesses struggling ones struggling much...</td>\n",
       "      <td>0.0</td>\n",
       "      <td>0.0</td>\n",
       "    </tr>\n",
       "  </tbody>\n",
       "</table>\n",
       "</div>"
      ],
      "text/plain": [
       "                 TitleCleaned  TitlePos  TitleNeg  \\\n",
       "0  running nightclub pandemic       0.0  0.333333   \n",
       "\n",
       "                                      CommentCleaned  CommentPos  CommentNeg  \n",
       "0  lot businesses struggling ones struggling much...         0.0         0.0  "
      ]
     },
     "execution_count": 39,
     "metadata": {},
     "output_type": "execute_result"
    }
   ],
   "source": [
    "# Calculate Positivity/Negativity Scores for Titles and Comments\n",
    "demo_df['TitlePos'] = demo_df['TitleCleaned'].apply(lambda x: nrc_sen(x, 'pos'))\n",
    "demo_df['TitleNeg'] = demo_df['TitleCleaned'].apply(lambda x: nrc_sen(x, 'neg'))    \n",
    "demo_df['CommentPos'] = demo_df['CommentCleaned'].apply(lambda x: nrc_sen(x, 'pos'))    \n",
    "demo_df['CommentNeg'] = demo_df['CommentCleaned'].apply(lambda x: nrc_sen(x, 'neg'))        \n",
    "demo_df[['TitleCleaned', 'TitlePos', 'TitleNeg', 'CommentCleaned', 'CommentPos', 'CommentNeg']].head(1)"
   ]
  },
  {
   "cell_type": "code",
   "execution_count": 40,
   "metadata": {},
   "outputs": [
    {
     "data": {
      "text/html": [
       "<div>\n",
       "<style scoped>\n",
       "    .dataframe tbody tr th:only-of-type {\n",
       "        vertical-align: middle;\n",
       "    }\n",
       "\n",
       "    .dataframe tbody tr th {\n",
       "        vertical-align: top;\n",
       "    }\n",
       "\n",
       "    .dataframe thead th {\n",
       "        text-align: right;\n",
       "    }\n",
       "</style>\n",
       "<table border=\"1\" class=\"dataframe\">\n",
       "  <thead>\n",
       "    <tr style=\"text-align: right;\">\n",
       "      <th></th>\n",
       "      <th>TitleCleaned</th>\n",
       "      <th>TitleEmotion</th>\n",
       "      <th>TitleEmotionScore</th>\n",
       "      <th>CommentCleaned</th>\n",
       "      <th>CommentEmotion</th>\n",
       "      <th>CommentEmotionScore</th>\n",
       "    </tr>\n",
       "  </thead>\n",
       "  <tbody>\n",
       "    <tr>\n",
       "      <th>0</th>\n",
       "      <td>running nightclub pandemic</td>\n",
       "      <td>fear</td>\n",
       "      <td>0.333333</td>\n",
       "      <td>lot businesses struggling ones struggling much...</td>\n",
       "      <td>fear</td>\n",
       "      <td>0.0</td>\n",
       "    </tr>\n",
       "  </tbody>\n",
       "</table>\n",
       "</div>"
      ],
      "text/plain": [
       "                 TitleCleaned TitleEmotion  TitleEmotionScore  \\\n",
       "0  running nightclub pandemic         fear           0.333333   \n",
       "\n",
       "                                      CommentCleaned CommentEmotion  \\\n",
       "0  lot businesses struggling ones struggling much...           fear   \n",
       "\n",
       "   CommentEmotionScore  \n",
       "0                  0.0  "
      ]
     },
     "execution_count": 40,
     "metadata": {},
     "output_type": "execute_result"
    }
   ],
   "source": [
    "# Calculate Emotion Scores for Titles and Comments\n",
    "demo_df['TitleEmotion'] = demo_df['TitleCleaned'].apply(lambda x: nrc_emo(x, 'emo'))\n",
    "demo_df['TitleEmotionScore'] = demo_df['TitleCleaned'].apply(lambda x: nrc_emo(x, 'score'))    \n",
    "demo_df['CommentEmotion'] = demo_df['CommentCleaned'].apply(lambda x: nrc_emo(x, 'emo'))\n",
    "demo_df['CommentEmotionScore'] = demo_df['CommentCleaned'].apply(lambda x: nrc_emo(x, 'score'))    \n",
    "demo_df[['TitleCleaned', 'TitleEmotion', 'TitleEmotionScore', 'CommentCleaned', 'CommentEmotion', 'CommentEmotionScore']].head(1)"
   ]
  },
  {
   "cell_type": "markdown",
   "metadata": {},
   "source": [
    "# Democratic Data Analysis"
   ]
  },
  {
   "cell_type": "code",
   "execution_count": 87,
   "metadata": {},
   "outputs": [
    {
     "name": "stdout",
     "output_type": "stream",
     "text": [
      "Percentage Title Emotion Distribution\n",
      "fear: 0.482673\n",
      "trust: 0.217822\n",
      "negative: 0.143564\n",
      "anger: 0.034653\n",
      "positive: 0.071782\n",
      "sadness: 0.009901\n",
      "anticipation: 0.022277\n",
      "surprise: 0.017327\n"
     ]
    },
    {
     "data": {
      "image/png": "[encoded data removed]",
      "text/plain": [
       "<Figure size 1000x600 with 1 Axes>"
      ]
     },
     "metadata": {},
     "output_type": "display_data"
    }
   ],
   "source": [
    "# Drop Duplicate Title Points\n",
    "demo_df_title = demo_df.drop_duplicates(subset=['title'])\n",
    "\n",
    "# Comment Emotion Distribution Analysis\n",
    "print('Percentage Title Emotion Distribution')\n",
    "emo_per = {}\n",
    "\n",
    "# Calculate and Output Emotion Percentage\n",
    "for emo in demo_df_title['TitleEmotion'].unique():\n",
    "    print('%s: %f' %(emo, len(demo_df_title[demo_df_title['TitleEmotion'] == emo])/len(demo_df_title)))\n",
    "    emo_per[emo] = len(demo_df_title[demo_df_title['TitleEmotion'] == emo])/len(demo_df_title)\n",
    "\n",
    "# Order and Plot values\n",
    "emo_per = dict(sorted(emo_per.items(), key = lambda x: x[1]))\n",
    "plt.figure(figsize=(10,6))\n",
    "plt.bar(emo_per.keys(), emo_per.values())\n",
    "plt.xlabel('Emotion')\n",
    "plt.ylabel('Title Percentage')\n",
    "plt.title('Percentage Distribution of Emotions in Title - Democratic Data');\n"
   ]
  },
  {
   "cell_type": "code",
   "execution_count": 79,
   "metadata": {},
   "outputs": [
    {
     "name": "stdout",
     "output_type": "stream",
     "text": [
      "Percentage Comment Emotion Distribution\n",
      "fear: 0.315641\n",
      "anger: 0.048276\n",
      "positive: 0.260676\n",
      "surprise: 0.026668\n",
      "negative: 0.131624\n",
      "trust: 0.177414\n",
      "anticipation: 0.032413\n",
      "sadness: 0.005659\n",
      "disgust: 0.001458\n",
      "joy: 0.000171\n"
     ]
    },
    {
     "data": {
      "image/png": "[encoded data removed]",
      "text/plain": [
       "<Figure size 1000x600 with 1 Axes>"
      ]
     },
     "metadata": {},
     "output_type": "display_data"
    }
   ],
   "source": [
    "# Comment Emotion Distribution Analysis\n",
    "print('Percentage Comment Emotion Distribution')\n",
    "emo_per = {}\n",
    "\n",
    "# Calculate and Output Emotion Percentage\n",
    "for emo in demo_df['CommentEmotion'].unique():\n",
    "    print('%s: %f' %(emo, len(demo_df[demo_df['CommentEmotion'] == emo])/len(demo_df)))\n",
    "    emo_per[emo] = len(demo_df[demo_df['CommentEmotion'] == emo])/len(demo_df)\n",
    "\n",
    "# Order and Plot values\n",
    "emo_per = dict(sorted(emo_per.items(), key = lambda x: x[1]))\n",
    "plt.figure(figsize=(10,6))\n",
    "plt.bar(emo_per.keys(), emo_per.values())\n",
    "plt.xlabel('Emotion')\n",
    "plt.ylabel('Comment Percentage')\n",
    "plt.title('Percentage Distribution of Emotions in Comments - Democratic Data');"
   ]
  },
  {
   "cell_type": "code",
   "execution_count": null,
   "metadata": {},
   "outputs": [
    {
     "name": "stdout",
     "output_type": "stream",
     "text": [
      "Average Score per Emotion\n"
     ]
    },
    {
     "ename": "TypeError",
     "evalue": "Could not convert ['ViceViceViceViceViceViceViceViceViceViceViceViceViceViceViceViceViceViceViceViceViceViceViceViceViceViceVoxVoxVoxVoxVoxVoxVoxVoxVoxVoxVoxVoxVoxVoxVoxVoxVoxVoxVoxVoxVoxVoxVoxVoxVoxVoxVoxVoxVoxVoxVoxVoxVoxVoxVoxVoxVoxVoxVoxVoxVoxVoxVoxVoxVoxVoxVoxVoxVoxMSNBCMSNBCMSNBCMSNBCMSNBCMSNBCMSNBCMSNBCMSNBCMSNBCMSNBCMSNBCMSNBCMSNBCMSNBCMSNBCMSNBCMSNBCMSNBCMSNBCMSNBCMSNBCMSNBCMSNBCMSNBCMSNBCMSNBCMSNBCMSNBCMSNBCMSNBCMSNBCMSNBCMSNBCMSNBCMSNBCMSNBCMSNBCMSNBCMSNBCMSNBCMSNBCMSNBCMSNBCMSNBCMSNBCMSNBCMSNBCMSNBCMSNBCMSNBCMSNBCDaily ShowDaily ShowDaily ShowDaily ShowDaily ShowDaily ShowDaily ShowDaily ShowDaily ShowDaily ShowDaily ShowDaily ShowDaily ShowDaily ShowDaily ShowDaily ShowDaily ShowDaily ShowDaily ShowDaily ShowDaily ShowDaily ShowDaily ShowDaily ShowDaily ShowDaily ShowDaily ShowDaily ShowDaily ShowDaily ShowDaily ShowYoung TurksYoung TurksYoung TurksYoung TurksYoung TurksYoung TurksYoung TurksYoung TurksYoung TurksYoung TurksYoung TurksYoung TurksYoung TurksYoung TurksYoung TurksYoung TurksYoung TurksYoung TurksYoung TurksYoung TurksYoung TurksYoung TurksYoung TurksYoung TurksYoung TurksYoung TurksYoung TurksYoung TurksYoung TurksYoung TurksYoung TurksYoung TurksYoung TurksYoung TurksYoung TurksYoung TurksYoung Turks'\n 'qX_aaRepdIMD669qcb7GGIQX3M8Ka9vUAZh2e8nY8VJ04PfZlxhvdkMxnS2CTmdA0AM4BOdBJFkgAy20Tx2eCw28q2roLP6HIQAcdZy4balvB8qavbWjQpDhA2RZoGOc3VCsSwoRx3tstxY3JFihjEWU3cvaTnP5AgQ_gUnETVMI4tY84qePOEBm9AwegEbJ2gukxUDkk1rMARYOYXnpbVRg1-qc-1A9v5bQDqk7fJpRa7o_fQ388wlVWxGz0gt7HlHDmc_4tNwkY_V_BPIgXBR5ZrKdws4Ltr7x8nO2M_e0VofLJTIkZ9gQLELtbhgHJ034SvB16EyeaQUhAOdtkqcJeOphUtekAl0rBxHuVk4nUnJQWO4YJYBB3qNWRaxGEqdjArlHB8k8yzDjjUAt3zc3bIvqS7gnQot6V9i8fFADIiKHl__BEsD0FBwFJeleth0VIY0FF3TE_E_0TCrGtTEQMLRP2Vw9ix-sylLTMYt24lAmvA9gs5gxNYr2fxJI_cP58RWSaceaSpRIBzuk13Ftxgo2ty2J0s2W0criWh6Ljgu_MhwuujiHvducEyAdby3hMRM1O_YHxd_HWQol6xKUkYyhMqp5CEcIyk941xbt0ACMbiAoRUjKZOhV6EutUOJ64X7u0mBoAMsif9Gk18lf1kpBgRkK3odScka55AK5E8eeyAQLMFoTE-6wWxXsFHQqKWxF1Tgqwqm8T_IFzk2OVMYUFWoaUpzmO6RWy1v8RCLQREWIwyAENw2y0ek1JgUI4g_amOTSgtfZYfYbONmIJ1wJuXjrxDUMbDIYj7IIQoqXdjt8ZBQbESVxPp2POkCY1ltzfeFeiP4mUutMIoBucoFPK35AVH8BQyTFGRCL_ZTccolxgYIy4molgRP_w4CgBwSU9avQSjJrMLZRgMwS7B8oDnpgzhZRwPEhpIhbJTW42MHqMl3HfR8nku0wKRykb5HYYBdZ3QtLrHIQooenWhi1eUAjDuf7gx4FwSxfMlsygxcIDe1TSLJecSc3fF8MfxFgQgY_V7b6P6hDkTdluMvfUM4MXYz8QsZeXz4S-uhgpXAATYJpaU7z0dBWQfhpVTUt_0Mcwc6csjcb5mk5UwR1DzpXjM7Q0Y0xeOS4k9iFseaHfyMc3qD_PZRiCDshJvaTbWnHiUnEuVk9RojywQRdwjOKUmCUMgcymCOriGs28kZLsnFgDMBS7iJlx1j14i6EDH_OLoK00XOYFb1nDMYfsrpFu9imkoBZ_f66aoZ0IV_SW8248GoExlS1Jkucs6IcWM8V9q9XSkW5kJA_Pc_jQ8mwVtmsVgRQsYht9MF2QLUY8Pbtbai9dME292SryC4nkKs3825r31GU26J0FZQJHaYcy5IxnikE5ANW94cqI9-YgcV0vH_IIQo46J55FgWN85ocoL1uedveZEnnPuCJqRn4Uv2bIyik6JUIhqgFwO2D0NUndl97Kt9ERQUZw5EbpZOoYhESoqv2AwWAjUcE3h2A_CweBhmqoRj_t4-sTZrgkQx4EDZIHXZKqDeQU3fPfQ8MZFQF0kBaf-iKUsHUhe-4Tqek82Py-MLiX_0gyp5HylZ05kMsgHQknJnuRkvbCSiHc-szYTN5-1QX8XZIoOndvtJ5LKMbLsRnx5wAdsXwxIqBCrvykHPAd81AzqXg5byqAsAqWskN8zF9tAzu74VfhV-ppYORUZPYkWsa77RkDrN9NCzeU-0F6oHayc5pjoMEc2gfWcQEcymF88jc2oPo_7nnyMHUUys4vw4sCou7wUtZu91Y_l8dcSkFJTsEsMVYJiPtY6stLB4yWMmnfjTT8sQ8lGHAPfSis5SlR-UHguKYV33C3pqZLkANEbvhGPbZy0aJzXrnTIJ7MffyycT9y09UchTEF4JFWlsNn2mgrLP8Aci_4t16NNITIfR46YIa11ZgaOjNXlg9bNgxRq0SCJCAPs85-QTg1gWVUUHhCKM7ZVoE32WrXoGqA-oIbzzED4SSV4KFclnQ6fLtMZLoHwv-VG4sa_bRrhcXwQwdXpAgVPLUbYyC85kgIaHfgteTvOBr5T3UktgloH7vlo8prPxJ5sE4HcNXuPjIew2RQSyCVud_BPr4sEW1RMVXEPcOV3wyVxqsDUojKd6KrDl18'\n 'Running a Nightclub During a PandemicThe Challenges of Being Homeless During a PandemicThe Third Industrial Revolution: A Radical New Sharing EconomyThe Deadliest Mass Shooting in America | Source MaterialThe Replacement Conspiracy Inspiring Mass Shootings | Decade of HateInside One of the Last Abortion Clinics in AlabamaHow the Pandemic is Making Pakistan’s Tech Industry More EquitableAssad\\'s Syria & Cost of Climate Change (VICE on HBO: Season 5, Episode 1)Abortion Access in the Maritimes‘He Didn’t Think He Would Make It’ - Battling To Save Lives During the PandemicThe Dangers of Medical Tourism in Mexico #shortsMexico\\'s Most Wanted Drug Kingpin | The War on DrugsWe Uncovered an ISIS Mass Grave | Super UsersFrom Homeless to Pro-Skater: Chad Muska | Epicly Later\\'d\\'Never Going Back:\\' Releasing Inmates During a PandemicThis Dishwasher Charges $60K to Design Custom GunsAddicted While Homeless | DOPESICK NATION (Episode 3)From Poverty to King of Bling | House of Dang Episode 1Gen Z’s War on Climate Change | Vice Around the World Episode 24Teenage Credit Card Scammers Stealing From the Rich | CrimewaveFirearms Training at a One Star Gun Range | One Star ReviewsCan Japanese Paid Companions Survive a Pandemic?Why Mexican Cartels Use American Guns | The War On DrugsStealing from the Rich: The Modern Day Robin HoodDoes Climate Change Really Mean the End of the World?  | Let Lee ExplainThe Teenager Suing the US Government over Climate ChangeWhat happens after ISIS falls?Who’s buying all the guns? #shortsThe mysterious rays shooting at us from spaceA brief history of ISISHow to fight climate change with parking lotsHow the NRA hijacks gun control debates4 ways Americans are still getting abortion pillsThe diet that helps fight climate changeWhy US gun laws get looser after mass shootingsWhy ISIS attacked BrusselsWatch the US stall on climate change for 12 yearsWhy ISIS would attack ParisHow the rich avoid paying taxesThe law that broke US immigrationWhat Michigan\\'s Prop 3 means for abortion #shortsThe wall of eyes trained on the US - Mexico borderHow climate change makes hurricanes worseTimothy Geithner on the Great RecessionHow American CEOs got so richmRNA vaccines, explainedThe risky way to speed up a coronavirus vaccineAs if teachers\\' jobs aren\\'t hard enough, they\\'re asked to fix poverty, tooHow US abortion policy targets the poor | 2020 ElectionHow rich countries are making the pandemic last longerDo \"gun buybacks\" work?The next pandemic could come from our farmsCow burps are a climate problem. Can seaweed help? #shortsHow abortion bans make inequality worseHow will the next generation of cities address the challenges of climate change? [Ad Content]How humans are making pandemics more likelyHow the US outsourced border security to MexicoCow burps are a climate problem. Can seaweed help?Why this Russian gas company sponsors soccer teamsTwo laws that make gun violence worse  #shortsISIS videos are sickening. They’re also really effective.Why you can\\'t compare Covid-19 vaccinesWhy Top Gun won the Oscar for soundThe US broke voting records in a pandemicLyme disease is spreading. Blame ticks — and climate changeWhy seeking asylum in America is so difficultWhy Mormons identify with Syrian refugeesThe rise of ISIS, explained in 6 minutesAmericans feel passionate about abortion but don\\'t know much about itThe gun solution we\\'re not talking aboutWhat a new Supreme Court means for abortionHow gun laws get looser after mass shootings #shortsInside Top Gun: Maverick’s Oscar-winning sound design #shortsISIS is losing. Watch how and why it\\'s happening.Big questions about the Covid booster shot, answered\\'It can occur anywhere\\': NV and IL attorneys general on gun violence epidemic‘I’m pissed off’: Jason Kander reacts to mass shooting at Chiefs Super Bowl paradeWatch: Trump RICO co-defendant Harrison Floyd hearing in Fulton County, GAThe challenges Ukrainian refugees face in PolandChild poverty skyrockets a year after record low‘The existential threat of our time’: Biden\\'s export pause scores major win for climate activistsPediatricians, parents struggle to get updated Covid vaccine for kidsAlabama carries out first nitrogen gas execution\\'Tell Me When It\\'s Over\\' looks at lessons learned from the Covid-19 pandemic\\'The critical economic issue\\': Why grocery prices stay high as inflation declinesSteve Rattner: Inflation subsided and median incomes are upKansas City mayor \\'heartbroken\\' over shootingJoe: Democrats are running against GOP\\'s \\'crash the economy, open border\\' platformRep. Frost reacts to Kansas City shootingTrump’s mass deportation agenda: \\'It’s not the border… it’s mean-spirited white nationalist thread\\'Sen. Booker: Child poverty in the U.S. is a policy decisionFmr. Prosecutor: Hearing in Trump’s GA case left us with more questions than answersGiuliani could soon be “handing over his paychecks” to GA election workersUNRA Rep on Ukrainian refugees returning home: “The main obstacle to return is safety and security”\\'Hamas is worse than ISIS\\': Senior Advisor to PM NetanyahuA Chicago professor and her students are helping migrants seeking asylumGun violence is America’s ‘biggest epidemic’: Jemele Hill & Maxwell Frost on Kansas City shootingLawrence: There was a confession about leaks today in Trump\\'s GA RICO caseSen. Merkley on COP28: U.S. is ‘leading with an example that will take us to climate oblivion’Inside the fight to end period poverty“Much ado about nothing:” Trump tries to dismiss GA case‘Petri dish for terrible gun laws’: Missouri legislator reacts to Kansas City mass shootingSenator admits Biden\\'s message on economy still hasn\\'t \\'broken through\\'Hamas terrorism echoes barbaric playbook from Putin to ISIS, warns historianThe Atlantic’s Jemele Hill on gun violence\\'Alabama has done it and now so can you\\': Ala. AG praises first nitrogen gas executionJoe slams the GOP\\'s ‘crash the economy, open border\\' platformDavid French: What it would mean to treat Hamas like ISIS“Violently shaking, thrashing:” Witness details first ever nitrogen gas executionAuthors of \\'The Big Fail\\' on what the U.S. learned from the COVID-19 pandemicHow Abraham Lincoln evolved on immigrationProperty Brothers on their climate activism and new showsCedric Alexander: Officers \\'were the difference between life and death\\' in Lakewood Church shootingEconomists say recession unlikely in 2024, according to surveyKimberly Atkins Stohr: GA District Attorney Fani Wilis ‘has the right’ to defend herselfLessons from America\\'s counterterrorism missteps in Mosul‘Biden has 9 months to tell the story’: The struggle to reach voters on the economy\\'My heart is breaking\\': Claire McCaskill on Kansas City ShootingMichigan AG Dana Nessel: Jury in Jennifer Crumbley trial made clear that ‘firearms are not toys’Harris pledges $3 billion from U.S. to climate fundRet. Major Spencer: ‘Strain’ of Gaza war on Israel’s economy ‘is substantial’ and ‘takes a toll’Kevin Bacon builds essentials kits for homeless, stresses need for giving back‘Emotionally rewiring’ on the economy: What’s really worrying AmericansGOP revives Obamacare attacksTrump renews threat to repeal ObamacarePreparation for the next pandemic relies on persuasion, says authorCNBC\\'s Andrew Ross Sorkin breaks down the stats behind period povertyRussia Retaliates By Cutting Gas & Fauci Declares U.S. Out of Pandemic Phase  | The Daily ShowJust a few of America\\'s quirky laws #desilydic #abortion #shortsFlorida Bans Math Books for CRT & AriZona Iced Tea Remains 99¢ Despite Inflation | The Daily ShowPresident Biden on Mobilizing Youth, Climate Change & Human Rights | The Daily ShowPrince Andrew Kicked Out of His Mansion & Inflation Hits the Tooth Fairy | The Daily ShowEverything Is Stupid - Trendy Chicken Coops for the Rich | The Daily ShowInflation is a lot like... #dailyshow #comedy #yts #inflationDemocrats & Abortion Rights Win Big On Election Night | The Daily ShowGosar Virtually Kills AOC, TikTok Saves a Kidnapped Woman & Inflation Sets Records | The Daily ShowInflation Soars, Elon Musk Causes Twitter Drama & Shanghai Imposes Strict Lockdown | The Daily ShowThe Fight Against ISIS: The Daily ShowSen. Lindsey Graham - On Trump, the War in Ukraine & Immigration Reform | The Daily ShowJon Stewart on America’s Gun Problem & Dystopic Present | The Daily Show#RonnyChieng can’t dumb down climate change for you anymore #shortsElon Musk is rich in America, just give him what he wants. Stop oppressing him!Why America Needs Term Limits and Gun Control - Jordan Klepper After the Cut | The Daily ShowTrump\\'s \"Moderate\" Abortion Stance & Endless Shrimp Costs Red Lobster Millions | The Daily ShowRep. Maxwell Frost talks about the steps that need to be taken in order to end gun violence #shortsUkraine War Is Exposing Racial Disparities in Refugee Treatment | The Daily ShowRep. Ocasio-Cortez - House Speaker Debacle & Creating a Path to Citizenship | The Daily ShowImmigrant moms are not impressed, NASA. #TDSThrowback #shortsKatha Pollitt discusses scare tactics used to sway people against abortion #dailyshow #tdsthrowbackInflation? All time high. Milk & eggs? Through the roof. Trump merch? Priceless. #dailyshow #magaNadia Murad - Surviving ISIS and Speaking Out On Sexual Violence | The Daily Social Distancing ShowKissinger\\'s Death Sparks GOAT Debate & Trump Goes \"Moderate\" on Abortion? | The Daily ShowINSPIRING: These Republicans Talking About Obamacare in 2009 Make A Great Case for Abortion RightsBeyoncé’s Album Leaks 36 Hours Early & America Enters a Debatable Recession | The Daily ShowAmericans Can\\'t Lose Hope Around Gun Control - Between the Scenes | The Daily ShowWhile the US struggles with gun violence, Europeans have to deal with real first world problemsTrevor Shuts Down Conservatives\\' Excuses for Gun Violence | The Daily ShowTrump Asks SCOTUS for Immunity & Texas Strikes Down Abortion Exemption | The Daily ShowCenk Reacts: Money For War, None For The PoorMAGA Grandma Thinks She Knows Climate Better Than ScientistsWATCH: Nancy Pelosi GUSHES Over Biden\\'s EconomyU.S. Men Are Suffering A \\'Friendship Recession\\'DEVASTATING Failures In Uvalde Shooting Response Detailed By DOJ ReportEstablishment Ghoul: Americans Need to Lose Their Jobs To Fix InflationMAGA to Pro-Choice People: \\'Don\\'t Like Us? MOVE!!!\\'Senator Ron Johnson Stumped by Basic Inflation QuestionBiden Admin Bans Company From Selling Data On Reproduction Health Care VisitsWATCH: Mike Pence Tries To Be Cool By Pretending To Pump GasState Dept. Spokesperson GRILLED On Fatal Shooting Of Gazan With White FlagSingle Mom Of 4 EVICTED From Home After Fatally Shooting IntruderWATCH: Trump SLAMS His Own Party On AbortionA Vital Industry Is FLEEING California, Florida Due To Climate ChangeTrump Supporter Challenged on Abortion StanceNYPD Officers Assaulted By Five Asylum SeekersIsrael ADMITS Refugee Camp Bombing That Killed 86 Caused \\'Unintended Harm\\'Animal Shelters OVERRUN As Pandemic Pets Are Being ReturnedMAGA\\'s Covid Pandemic Conspiracy Theories Keep Getting Crazier & CrazierREPORT: Israeli Snipers SHOOT Civilians Entering, Leaving Gaza HospitalIsrael Tells Refugees In Rafah To Move BACK Into North Gaza #TYT\"There Is No Tennis On A Dead Planet\": Climate Change Protesters Removed After Disrupting U.S. OpenStrategists PLEAD With Republican Candidates To Temper Extreme Abortion MessagingREPORT: IDF\\'s Cruel Hospital Operation Included Shooting Doctors, Crushing BodiesCenk 60 Seconds: Gun Violence In SchoolYou\\'re Not Gonna Believe How Much Rich Men Are Paying StylistsCenk Reacts: Climate Change PSAStudy Reveals Climate Change NIGHTMARE May Now Be InevitableU.S. Marines, Afghan Civilians Killed In ISIS AttackCenk Reacts: NRA Lobbying1 Killed, 20+ Injured In Chief\\'s Super Bowl Parade ShootingCenk Breaks Down Why Corporate Price Gouging Leads To InflationRepublicans Try To Hide Brutal Anti-Abortion Policies With New LabelWATCH: Greg Gutfeld Claims AOC Is Horny For ImmigrantsTexas Supreme Court BLOCKS Emergency Abortion For Nonviable FetusCNN & Trump Gaslight on ISIS Attack in KabulWATCH: Jenna Ellis Blames EVERYONE Else While Pleading Guilty In GA Election Case'\n 'PandemicsHomelessnessEconomyShootingShootingAbortionPandemicsClimateAbortionPandemicsMexicoMexicoISISHomelessnessPandemicsGunHomelessnessPovertyClimateRichGunPandemicsGunRichClimateClimateISISGunShootingISISClimateGunAbortionClimateGunISISClimateISISRichImmigrationAbortionMexicoClimateRecessionRichVaccinationVaccinationPovertyAbortionRichGunPandemicsClimateAbortionClimatePandemicsMexicoClimateGasGunISISVaccinationGunPandemicsClimateAsylumRefugeeISISAbortionGunAbortionGunGunISISCovidGunShootingGasRefugeePovertyClimateCovidGasPandemicsInflationInflationShootingEconomyShootingDeportationPovertyGasGasRefugeeISISAsylumGunGasClimatePovertyGasGunEconomyISISGunGasEconomyISISGasPandemicsImmigrationClimateShootingRecessionGasMosulEconomyShootingFirearmClimateEconomyHomelessnessEconomyObamacareObamacarePandemicsPovertyGasAbortionInflationClimateInflationRichInflationAbortionInflationInflationISISImmigrationGunClimateRichGunAbortionGunRefugeeCitizenshipImmigrationAbortionInflationISISAbortionAbortionRecessionGunGunGunAbortionPoorClimateEconomyRecessionShootingInflationPro-choiceInflationReproductiveGasShootingShootingAbortionClimateAbortionAsylumRefugeePandemicsCovidShootingRefugeeClimateAbortionShootingGunRichClimateClimateISISNRAShootingInflationAnti-abortionImmigrationAbortionISISGas'] to numeric",
     "output_type": "error",
     "traceback": [
      "\u001b[1;31m---------------------------------------------------------------------------\u001b[0m",
      "\u001b[1;31mTypeError\u001b[0m                                 Traceback (most recent call last)",
      "Cell \u001b[1;32mIn[88], line 9\u001b[0m\n\u001b[0;32m      7\u001b[0m \u001b[38;5;66;03m# Calculate and Output Emotion Percentage\u001b[39;00m\n\u001b[0;32m      8\u001b[0m \u001b[38;5;28;01mfor\u001b[39;00m emo \u001b[38;5;129;01min\u001b[39;00m demo_df_title[\u001b[38;5;124m'\u001b[39m\u001b[38;5;124mTitleEmotion\u001b[39m\u001b[38;5;124m'\u001b[39m]\u001b[38;5;241m.\u001b[39munique():\n\u001b[1;32m----> 9\u001b[0m     emo_score[emo] \u001b[38;5;241m=\u001b[39m \u001b[43mdemo_df_title\u001b[49m\u001b[43m[\u001b[49m\u001b[43mdemo_df_title\u001b[49m\u001b[43m[\u001b[49m\u001b[38;5;124;43m'\u001b[39;49m\u001b[38;5;124;43mTitleEmotion\u001b[39;49m\u001b[38;5;124;43m'\u001b[39;49m\u001b[43m]\u001b[49m\u001b[43m \u001b[49m\u001b[38;5;241;43m==\u001b[39;49m\u001b[43m \u001b[49m\u001b[43memo\u001b[49m\u001b[43m]\u001b[49m\u001b[38;5;241;43m.\u001b[39;49m\u001b[43mmean\u001b[49m\u001b[43m(\u001b[49m\u001b[43m)\u001b[49m\n\u001b[0;32m     10\u001b[0m     \u001b[38;5;28mprint\u001b[39m(\u001b[38;5;124m'\u001b[39m\u001b[38;5;132;01m%s\u001b[39;00m\u001b[38;5;124m: \u001b[39m\u001b[38;5;132;01m%f\u001b[39;00m\u001b[38;5;124m'\u001b[39m \u001b[38;5;241m%\u001b[39m(emo, emo_score[emo]))\n\u001b[0;32m     12\u001b[0m \u001b[38;5;66;03m# Order and Plot values\u001b[39;00m\n",
      "File \u001b[1;32md:\\OSPython\\lib\\site-packages\\pandas\\core\\frame.py:11666\u001b[0m, in \u001b[0;36mDataFrame.mean\u001b[1;34m(self, axis, skipna, numeric_only, **kwargs)\u001b[0m\n\u001b[0;32m  11658\u001b[0m \u001b[38;5;129m@doc\u001b[39m(make_doc(\u001b[38;5;124m\"\u001b[39m\u001b[38;5;124mmean\u001b[39m\u001b[38;5;124m\"\u001b[39m, ndim\u001b[38;5;241m=\u001b[39m\u001b[38;5;241m2\u001b[39m))\n\u001b[0;32m  11659\u001b[0m \u001b[38;5;28;01mdef\u001b[39;00m \u001b[38;5;21mmean\u001b[39m(\n\u001b[0;32m  11660\u001b[0m     \u001b[38;5;28mself\u001b[39m,\n\u001b[1;32m   (...)\u001b[0m\n\u001b[0;32m  11664\u001b[0m     \u001b[38;5;241m*\u001b[39m\u001b[38;5;241m*\u001b[39mkwargs,\n\u001b[0;32m  11665\u001b[0m ):\n\u001b[1;32m> 11666\u001b[0m     result \u001b[38;5;241m=\u001b[39m \u001b[38;5;28msuper\u001b[39m()\u001b[38;5;241m.\u001b[39mmean(axis, skipna, numeric_only, \u001b[38;5;241m*\u001b[39m\u001b[38;5;241m*\u001b[39mkwargs)\n\u001b[0;32m  11667\u001b[0m     \u001b[38;5;28;01mif\u001b[39;00m \u001b[38;5;28misinstance\u001b[39m(result, Series):\n\u001b[0;32m  11668\u001b[0m         result \u001b[38;5;241m=\u001b[39m result\u001b[38;5;241m.\u001b[39m__finalize__(\u001b[38;5;28mself\u001b[39m, method\u001b[38;5;241m=\u001b[39m\u001b[38;5;124m\"\u001b[39m\u001b[38;5;124mmean\u001b[39m\u001b[38;5;124m\"\u001b[39m)\n",
      "File \u001b[1;32md:\\OSPython\\lib\\site-packages\\pandas\\core\\generic.py:12413\u001b[0m, in \u001b[0;36mNDFrame.mean\u001b[1;34m(self, axis, skipna, numeric_only, **kwargs)\u001b[0m\n\u001b[0;32m  12406\u001b[0m \u001b[38;5;28;01mdef\u001b[39;00m \u001b[38;5;21mmean\u001b[39m(\n\u001b[0;32m  12407\u001b[0m     \u001b[38;5;28mself\u001b[39m,\n\u001b[0;32m  12408\u001b[0m     axis: Axis \u001b[38;5;241m|\u001b[39m \u001b[38;5;28;01mNone\u001b[39;00m \u001b[38;5;241m=\u001b[39m \u001b[38;5;241m0\u001b[39m,\n\u001b[1;32m   (...)\u001b[0m\n\u001b[0;32m  12411\u001b[0m     \u001b[38;5;241m*\u001b[39m\u001b[38;5;241m*\u001b[39mkwargs,\n\u001b[0;32m  12412\u001b[0m ) \u001b[38;5;241m-\u001b[39m\u001b[38;5;241m>\u001b[39m Series \u001b[38;5;241m|\u001b[39m \u001b[38;5;28mfloat\u001b[39m:\n\u001b[1;32m> 12413\u001b[0m     \u001b[38;5;28;01mreturn\u001b[39;00m \u001b[38;5;28mself\u001b[39m\u001b[38;5;241m.\u001b[39m_stat_function(\n\u001b[0;32m  12414\u001b[0m         \u001b[38;5;124m\"\u001b[39m\u001b[38;5;124mmean\u001b[39m\u001b[38;5;124m\"\u001b[39m, nanops\u001b[38;5;241m.\u001b[39mnanmean, axis, skipna, numeric_only, \u001b[38;5;241m*\u001b[39m\u001b[38;5;241m*\u001b[39mkwargs\n\u001b[0;32m  12415\u001b[0m     )\n",
      "File \u001b[1;32md:\\OSPython\\lib\\site-packages\\pandas\\core\\generic.py:12370\u001b[0m, in \u001b[0;36mNDFrame._stat_function\u001b[1;34m(self, name, func, axis, skipna, numeric_only, **kwargs)\u001b[0m\n\u001b[0;32m  12366\u001b[0m nv\u001b[38;5;241m.\u001b[39mvalidate_func(name, (), kwargs)\n\u001b[0;32m  12368\u001b[0m validate_bool_kwarg(skipna, \u001b[38;5;124m\"\u001b[39m\u001b[38;5;124mskipna\u001b[39m\u001b[38;5;124m\"\u001b[39m, none_allowed\u001b[38;5;241m=\u001b[39m\u001b[38;5;28;01mFalse\u001b[39;00m)\n\u001b[1;32m> 12370\u001b[0m \u001b[38;5;28;01mreturn\u001b[39;00m \u001b[38;5;28;43mself\u001b[39;49m\u001b[38;5;241;43m.\u001b[39;49m\u001b[43m_reduce\u001b[49m\u001b[43m(\u001b[49m\n\u001b[0;32m  12371\u001b[0m \u001b[43m    \u001b[49m\u001b[43mfunc\u001b[49m\u001b[43m,\u001b[49m\u001b[43m \u001b[49m\u001b[43mname\u001b[49m\u001b[38;5;241;43m=\u001b[39;49m\u001b[43mname\u001b[49m\u001b[43m,\u001b[49m\u001b[43m \u001b[49m\u001b[43maxis\u001b[49m\u001b[38;5;241;43m=\u001b[39;49m\u001b[43maxis\u001b[49m\u001b[43m,\u001b[49m\u001b[43m \u001b[49m\u001b[43mskipna\u001b[49m\u001b[38;5;241;43m=\u001b[39;49m\u001b[43mskipna\u001b[49m\u001b[43m,\u001b[49m\u001b[43m \u001b[49m\u001b[43mnumeric_only\u001b[49m\u001b[38;5;241;43m=\u001b[39;49m\u001b[43mnumeric_only\u001b[49m\n\u001b[0;32m  12372\u001b[0m \u001b[43m\u001b[49m\u001b[43m)\u001b[49m\n",
      "File \u001b[1;32md:\\OSPython\\lib\\site-packages\\pandas\\core\\frame.py:11535\u001b[0m, in \u001b[0;36mDataFrame._reduce\u001b[1;34m(self, op, name, axis, skipna, numeric_only, filter_type, **kwds)\u001b[0m\n\u001b[0;32m  11531\u001b[0m     df \u001b[38;5;241m=\u001b[39m df\u001b[38;5;241m.\u001b[39mT\n\u001b[0;32m  11533\u001b[0m \u001b[38;5;66;03m# After possibly _get_data and transposing, we are now in the\u001b[39;00m\n\u001b[0;32m  11534\u001b[0m \u001b[38;5;66;03m#  simple case where we can use BlockManager.reduce\u001b[39;00m\n\u001b[1;32m> 11535\u001b[0m res \u001b[38;5;241m=\u001b[39m \u001b[43mdf\u001b[49m\u001b[38;5;241;43m.\u001b[39;49m\u001b[43m_mgr\u001b[49m\u001b[38;5;241;43m.\u001b[39;49m\u001b[43mreduce\u001b[49m\u001b[43m(\u001b[49m\u001b[43mblk_func\u001b[49m\u001b[43m)\u001b[49m\n\u001b[0;32m  11536\u001b[0m out \u001b[38;5;241m=\u001b[39m df\u001b[38;5;241m.\u001b[39m_constructor_from_mgr(res, axes\u001b[38;5;241m=\u001b[39mres\u001b[38;5;241m.\u001b[39maxes)\u001b[38;5;241m.\u001b[39miloc[\u001b[38;5;241m0\u001b[39m]\n\u001b[0;32m  11537\u001b[0m \u001b[38;5;28;01mif\u001b[39;00m out_dtype \u001b[38;5;129;01mis\u001b[39;00m \u001b[38;5;129;01mnot\u001b[39;00m \u001b[38;5;28;01mNone\u001b[39;00m \u001b[38;5;129;01mand\u001b[39;00m out\u001b[38;5;241m.\u001b[39mdtype \u001b[38;5;241m!=\u001b[39m \u001b[38;5;124m\"\u001b[39m\u001b[38;5;124mboolean\u001b[39m\u001b[38;5;124m\"\u001b[39m:\n",
      "File \u001b[1;32md:\\OSPython\\lib\\site-packages\\pandas\\core\\internals\\managers.py:1501\u001b[0m, in \u001b[0;36mBlockManager.reduce\u001b[1;34m(self, func)\u001b[0m\n\u001b[0;32m   1499\u001b[0m res_blocks: \u001b[38;5;28mlist\u001b[39m[Block] \u001b[38;5;241m=\u001b[39m []\n\u001b[0;32m   1500\u001b[0m \u001b[38;5;28;01mfor\u001b[39;00m blk \u001b[38;5;129;01min\u001b[39;00m \u001b[38;5;28mself\u001b[39m\u001b[38;5;241m.\u001b[39mblocks:\n\u001b[1;32m-> 1501\u001b[0m     nbs \u001b[38;5;241m=\u001b[39m \u001b[43mblk\u001b[49m\u001b[38;5;241;43m.\u001b[39;49m\u001b[43mreduce\u001b[49m\u001b[43m(\u001b[49m\u001b[43mfunc\u001b[49m\u001b[43m)\u001b[49m\n\u001b[0;32m   1502\u001b[0m     res_blocks\u001b[38;5;241m.\u001b[39mextend(nbs)\n\u001b[0;32m   1504\u001b[0m index \u001b[38;5;241m=\u001b[39m Index([\u001b[38;5;28;01mNone\u001b[39;00m])  \u001b[38;5;66;03m# placeholder\u001b[39;00m\n",
      "File \u001b[1;32md:\\OSPython\\lib\\site-packages\\pandas\\core\\internals\\blocks.py:404\u001b[0m, in \u001b[0;36mBlock.reduce\u001b[1;34m(self, func)\u001b[0m\n\u001b[0;32m    398\u001b[0m \u001b[38;5;129m@final\u001b[39m\n\u001b[0;32m    399\u001b[0m \u001b[38;5;28;01mdef\u001b[39;00m \u001b[38;5;21mreduce\u001b[39m(\u001b[38;5;28mself\u001b[39m, func) \u001b[38;5;241m-\u001b[39m\u001b[38;5;241m>\u001b[39m \u001b[38;5;28mlist\u001b[39m[Block]:\n\u001b[0;32m    400\u001b[0m     \u001b[38;5;66;03m# We will apply the function and reshape the result into a single-row\u001b[39;00m\n\u001b[0;32m    401\u001b[0m     \u001b[38;5;66;03m#  Block with the same mgr_locs; squeezing will be done at a higher level\u001b[39;00m\n\u001b[0;32m    402\u001b[0m     \u001b[38;5;28;01massert\u001b[39;00m \u001b[38;5;28mself\u001b[39m\u001b[38;5;241m.\u001b[39mndim \u001b[38;5;241m==\u001b[39m \u001b[38;5;241m2\u001b[39m\n\u001b[1;32m--> 404\u001b[0m     result \u001b[38;5;241m=\u001b[39m \u001b[43mfunc\u001b[49m\u001b[43m(\u001b[49m\u001b[38;5;28;43mself\u001b[39;49m\u001b[38;5;241;43m.\u001b[39;49m\u001b[43mvalues\u001b[49m\u001b[43m)\u001b[49m\n\u001b[0;32m    406\u001b[0m     \u001b[38;5;28;01mif\u001b[39;00m \u001b[38;5;28mself\u001b[39m\u001b[38;5;241m.\u001b[39mvalues\u001b[38;5;241m.\u001b[39mndim \u001b[38;5;241m==\u001b[39m \u001b[38;5;241m1\u001b[39m:\n\u001b[0;32m    407\u001b[0m         res_values \u001b[38;5;241m=\u001b[39m result\n",
      "File \u001b[1;32md:\\OSPython\\lib\\site-packages\\pandas\\core\\frame.py:11454\u001b[0m, in \u001b[0;36mDataFrame._reduce.<locals>.blk_func\u001b[1;34m(values, axis)\u001b[0m\n\u001b[0;32m  11452\u001b[0m         \u001b[38;5;28;01mreturn\u001b[39;00m np\u001b[38;5;241m.\u001b[39marray([result])\n\u001b[0;32m  11453\u001b[0m \u001b[38;5;28;01melse\u001b[39;00m:\n\u001b[1;32m> 11454\u001b[0m     \u001b[38;5;28;01mreturn\u001b[39;00m op(values, axis\u001b[38;5;241m=\u001b[39maxis, skipna\u001b[38;5;241m=\u001b[39mskipna, \u001b[38;5;241m*\u001b[39m\u001b[38;5;241m*\u001b[39mkwds)\n",
      "File \u001b[1;32md:\\OSPython\\lib\\site-packages\\pandas\\core\\nanops.py:147\u001b[0m, in \u001b[0;36mbottleneck_switch.__call__.<locals>.f\u001b[1;34m(values, axis, skipna, **kwds)\u001b[0m\n\u001b[0;32m    145\u001b[0m         result \u001b[38;5;241m=\u001b[39m alt(values, axis\u001b[38;5;241m=\u001b[39maxis, skipna\u001b[38;5;241m=\u001b[39mskipna, \u001b[38;5;241m*\u001b[39m\u001b[38;5;241m*\u001b[39mkwds)\n\u001b[0;32m    146\u001b[0m \u001b[38;5;28;01melse\u001b[39;00m:\n\u001b[1;32m--> 147\u001b[0m     result \u001b[38;5;241m=\u001b[39m alt(values, axis\u001b[38;5;241m=\u001b[39maxis, skipna\u001b[38;5;241m=\u001b[39mskipna, \u001b[38;5;241m*\u001b[39m\u001b[38;5;241m*\u001b[39mkwds)\n\u001b[0;32m    149\u001b[0m \u001b[38;5;28;01mreturn\u001b[39;00m result\n",
      "File \u001b[1;32md:\\OSPython\\lib\\site-packages\\pandas\\core\\nanops.py:404\u001b[0m, in \u001b[0;36m_datetimelike_compat.<locals>.new_func\u001b[1;34m(values, axis, skipna, mask, **kwargs)\u001b[0m\n\u001b[0;32m    401\u001b[0m \u001b[38;5;28;01mif\u001b[39;00m datetimelike \u001b[38;5;129;01mand\u001b[39;00m mask \u001b[38;5;129;01mis\u001b[39;00m \u001b[38;5;28;01mNone\u001b[39;00m:\n\u001b[0;32m    402\u001b[0m     mask \u001b[38;5;241m=\u001b[39m isna(values)\n\u001b[1;32m--> 404\u001b[0m result \u001b[38;5;241m=\u001b[39m func(values, axis\u001b[38;5;241m=\u001b[39maxis, skipna\u001b[38;5;241m=\u001b[39mskipna, mask\u001b[38;5;241m=\u001b[39mmask, \u001b[38;5;241m*\u001b[39m\u001b[38;5;241m*\u001b[39mkwargs)\n\u001b[0;32m    406\u001b[0m \u001b[38;5;28;01mif\u001b[39;00m datetimelike:\n\u001b[0;32m    407\u001b[0m     result \u001b[38;5;241m=\u001b[39m _wrap_results(result, orig_values\u001b[38;5;241m.\u001b[39mdtype, fill_value\u001b[38;5;241m=\u001b[39miNaT)\n",
      "File \u001b[1;32md:\\OSPython\\lib\\site-packages\\pandas\\core\\nanops.py:720\u001b[0m, in \u001b[0;36mnanmean\u001b[1;34m(values, axis, skipna, mask)\u001b[0m\n\u001b[0;32m    718\u001b[0m count \u001b[38;5;241m=\u001b[39m _get_counts(values\u001b[38;5;241m.\u001b[39mshape, mask, axis, dtype\u001b[38;5;241m=\u001b[39mdtype_count)\n\u001b[0;32m    719\u001b[0m the_sum \u001b[38;5;241m=\u001b[39m values\u001b[38;5;241m.\u001b[39msum(axis, dtype\u001b[38;5;241m=\u001b[39mdtype_sum)\n\u001b[1;32m--> 720\u001b[0m the_sum \u001b[38;5;241m=\u001b[39m \u001b[43m_ensure_numeric\u001b[49m\u001b[43m(\u001b[49m\u001b[43mthe_sum\u001b[49m\u001b[43m)\u001b[49m\n\u001b[0;32m    722\u001b[0m \u001b[38;5;28;01mif\u001b[39;00m axis \u001b[38;5;129;01mis\u001b[39;00m \u001b[38;5;129;01mnot\u001b[39;00m \u001b[38;5;28;01mNone\u001b[39;00m \u001b[38;5;129;01mand\u001b[39;00m \u001b[38;5;28mgetattr\u001b[39m(the_sum, \u001b[38;5;124m\"\u001b[39m\u001b[38;5;124mndim\u001b[39m\u001b[38;5;124m\"\u001b[39m, \u001b[38;5;28;01mFalse\u001b[39;00m):\n\u001b[0;32m    723\u001b[0m     count \u001b[38;5;241m=\u001b[39m cast(np\u001b[38;5;241m.\u001b[39mndarray, count)\n",
      "File \u001b[1;32md:\\OSPython\\lib\\site-packages\\pandas\\core\\nanops.py:1686\u001b[0m, in \u001b[0;36m_ensure_numeric\u001b[1;34m(x)\u001b[0m\n\u001b[0;32m   1683\u001b[0m inferred \u001b[38;5;241m=\u001b[39m lib\u001b[38;5;241m.\u001b[39minfer_dtype(x)\n\u001b[0;32m   1684\u001b[0m \u001b[38;5;28;01mif\u001b[39;00m inferred \u001b[38;5;129;01min\u001b[39;00m [\u001b[38;5;124m\"\u001b[39m\u001b[38;5;124mstring\u001b[39m\u001b[38;5;124m\"\u001b[39m, \u001b[38;5;124m\"\u001b[39m\u001b[38;5;124mmixed\u001b[39m\u001b[38;5;124m\"\u001b[39m]:\n\u001b[0;32m   1685\u001b[0m     \u001b[38;5;66;03m# GH#44008, GH#36703 avoid casting e.g. strings to numeric\u001b[39;00m\n\u001b[1;32m-> 1686\u001b[0m     \u001b[38;5;28;01mraise\u001b[39;00m \u001b[38;5;167;01mTypeError\u001b[39;00m(\u001b[38;5;124mf\u001b[39m\u001b[38;5;124m\"\u001b[39m\u001b[38;5;124mCould not convert \u001b[39m\u001b[38;5;132;01m{\u001b[39;00mx\u001b[38;5;132;01m}\u001b[39;00m\u001b[38;5;124m to numeric\u001b[39m\u001b[38;5;124m\"\u001b[39m)\n\u001b[0;32m   1687\u001b[0m \u001b[38;5;28;01mtry\u001b[39;00m:\n\u001b[0;32m   1688\u001b[0m     x \u001b[38;5;241m=\u001b[39m x\u001b[38;5;241m.\u001b[39mastype(np\u001b[38;5;241m.\u001b[39mcomplex128)\n",
      "\u001b[1;31mTypeError\u001b[0m: Could not convert ['ViceViceViceViceViceViceViceViceViceViceViceViceViceViceViceViceViceViceViceViceViceViceViceViceViceViceVoxVoxVoxVoxVoxVoxVoxVoxVoxVoxVoxVoxVoxVoxVoxVoxVoxVoxVoxVoxVoxVoxVoxVoxVoxVoxVoxVoxVoxVoxVoxVoxVoxVoxVoxVoxVoxVoxVoxVoxVoxVoxVoxVoxVoxVoxVoxVoxVoxMSNBCMSNBCMSNBCMSNBCMSNBCMSNBCMSNBCMSNBCMSNBCMSNBCMSNBCMSNBCMSNBCMSNBCMSNBCMSNBCMSNBCMSNBCMSNBCMSNBCMSNBCMSNBCMSNBCMSNBCMSNBCMSNBCMSNBCMSNBCMSNBCMSNBCMSNBCMSNBCMSNBCMSNBCMSNBCMSNBCMSNBCMSNBCMSNBCMSNBCMSNBCMSNBCMSNBCMSNBCMSNBCMSNBCMSNBCMSNBCMSNBCMSNBCMSNBCMSNBCDaily ShowDaily ShowDaily ShowDaily ShowDaily ShowDaily ShowDaily ShowDaily ShowDaily ShowDaily ShowDaily ShowDaily ShowDaily ShowDaily ShowDaily ShowDaily ShowDaily ShowDaily ShowDaily ShowDaily ShowDaily ShowDaily ShowDaily ShowDaily ShowDaily ShowDaily ShowDaily ShowDaily ShowDaily ShowDaily ShowDaily ShowYoung TurksYoung TurksYoung TurksYoung TurksYoung TurksYoung TurksYoung TurksYoung TurksYoung TurksYoung TurksYoung TurksYoung TurksYoung TurksYoung TurksYoung TurksYoung TurksYoung TurksYoung TurksYoung TurksYoung TurksYoung TurksYoung TurksYoung TurksYoung TurksYoung TurksYoung TurksYoung TurksYoung TurksYoung TurksYoung TurksYoung TurksYoung TurksYoung TurksYoung TurksYoung TurksYoung TurksYoung Turks'\n 'qX_aaRepdIMD669qcb7GGIQX3M8Ka9vUAZh2e8nY8VJ04PfZlxhvdkMxnS2CTmdA0AM4BOdBJFkgAy20Tx2eCw28q2roLP6HIQAcdZy4balvB8qavbWjQpDhA2RZoGOc3VCsSwoRx3tstxY3JFihjEWU3cvaTnP5AgQ_gUnETVMI4tY84qePOEBm9AwegEbJ2gukxUDkk1rMARYOYXnpbVRg1-qc-1A9v5bQDqk7fJpRa7o_fQ388wlVWxGz0gt7HlHDmc_4tNwkY_V_BPIgXBR5ZrKdws4Ltr7x8nO2M_e0VofLJTIkZ9gQLELtbhgHJ034SvB16EyeaQUhAOdtkqcJeOphUtekAl0rBxHuVk4nUnJQWO4YJYBB3qNWRaxGEqdjArlHB8k8yzDjjUAt3zc3bIvqS7gnQot6V9i8fFADIiKHl__BEsD0FBwFJeleth0VIY0FF3TE_E_0TCrGtTEQMLRP2Vw9ix-sylLTMYt24lAmvA9gs5gxNYr2fxJI_cP58RWSaceaSpRIBzuk13Ftxgo2ty2J0s2W0criWh6Ljgu_MhwuujiHvducEyAdby3hMRM1O_YHxd_HWQol6xKUkYyhMqp5CEcIyk941xbt0ACMbiAoRUjKZOhV6EutUOJ64X7u0mBoAMsif9Gk18lf1kpBgRkK3odScka55AK5E8eeyAQLMFoTE-6wWxXsFHQqKWxF1Tgqwqm8T_IFzk2OVMYUFWoaUpzmO6RWy1v8RCLQREWIwyAENw2y0ek1JgUI4g_amOTSgtfZYfYbONmIJ1wJuXjrxDUMbDIYj7IIQoqXdjt8ZBQbESVxPp2POkCY1ltzfeFeiP4mUutMIoBucoFPK35AVH8BQyTFGRCL_ZTccolxgYIy4molgRP_w4CgBwSU9avQSjJrMLZRgMwS7B8oDnpgzhZRwPEhpIhbJTW42MHqMl3HfR8nku0wKRykb5HYYBdZ3QtLrHIQooenWhi1eUAjDuf7gx4FwSxfMlsygxcIDe1TSLJecSc3fF8MfxFgQgY_V7b6P6hDkTdluMvfUM4MXYz8QsZeXz4S-uhgpXAATYJpaU7z0dBWQfhpVTUt_0Mcwc6csjcb5mk5UwR1DzpXjM7Q0Y0xeOS4k9iFseaHfyMc3qD_PZRiCDshJvaTbWnHiUnEuVk9RojywQRdwjOKUmCUMgcymCOriGs28kZLsnFgDMBS7iJlx1j14i6EDH_OLoK00XOYFb1nDMYfsrpFu9imkoBZ_f66aoZ0IV_SW8248GoExlS1Jkucs6IcWM8V9q9XSkW5kJA_Pc_jQ8mwVtmsVgRQsYht9MF2QLUY8Pbtbai9dME292SryC4nkKs3825r31GU26J0FZQJHaYcy5IxnikE5ANW94cqI9-YgcV0vH_IIQo46J55FgWN85ocoL1uedveZEnnPuCJqRn4Uv2bIyik6JUIhqgFwO2D0NUndl97Kt9ERQUZw5EbpZOoYhESoqv2AwWAjUcE3h2A_CweBhmqoRj_t4-sTZrgkQx4EDZIHXZKqDeQU3fPfQ8MZFQF0kBaf-iKUsHUhe-4Tqek82Py-MLiX_0gyp5HylZ05kMsgHQknJnuRkvbCSiHc-szYTN5-1QX8XZIoOndvtJ5LKMbLsRnx5wAdsXwxIqBCrvykHPAd81AzqXg5byqAsAqWskN8zF9tAzu74VfhV-ppYORUZPYkWsa77RkDrN9NCzeU-0F6oHayc5pjoMEc2gfWcQEcymF88jc2oPo_7nnyMHUUys4vw4sCou7wUtZu91Y_l8dcSkFJTsEsMVYJiPtY6stLB4yWMmnfjTT8sQ8lGHAPfSis5SlR-UHguKYV33C3pqZLkANEbvhGPbZy0aJzXrnTIJ7MffyycT9y09UchTEF4JFWlsNn2mgrLP8Aci_4t16NNITIfR46YIa11ZgaOjNXlg9bNgxRq0SCJCAPs85-QTg1gWVUUHhCKM7ZVoE32WrXoGqA-oIbzzED4SSV4KFclnQ6fLtMZLoHwv-VG4sa_bRrhcXwQwdXpAgVPLUbYyC85kgIaHfgteTvOBr5T3UktgloH7vlo8prPxJ5sE4HcNXuPjIew2RQSyCVud_BPr4sEW1RMVXEPcOV3wyVxqsDUojKd6KrDl18'\n 'Running a Nightclub During a PandemicThe Challenges of Being Homeless During a PandemicThe Third Industrial Revolution: A Radical New Sharing EconomyThe Deadliest Mass Shooting in America | Source MaterialThe Replacement Conspiracy Inspiring Mass Shootings | Decade of HateInside One of the Last Abortion Clinics in AlabamaHow the Pandemic is Making Pakistan’s Tech Industry More EquitableAssad\\'s Syria & Cost of Climate Change (VICE on HBO: Season 5, Episode 1)Abortion Access in the Maritimes‘He Didn’t Think He Would Make It’ - Battling To Save Lives During the PandemicThe Dangers of Medical Tourism in Mexico #shortsMexico\\'s Most Wanted Drug Kingpin | The War on DrugsWe Uncovered an ISIS Mass Grave | Super UsersFrom Homeless to Pro-Skater: Chad Muska | Epicly Later\\'d\\'Never Going Back:\\' Releasing Inmates During a PandemicThis Dishwasher Charges $60K to Design Custom GunsAddicted While Homeless | DOPESICK NATION (Episode 3)From Poverty to King of Bling | House of Dang Episode 1Gen Z’s War on Climate Change | Vice Around the World Episode 24Teenage Credit Card Scammers Stealing From the Rich | CrimewaveFirearms Training at a One Star Gun Range | One Star ReviewsCan Japanese Paid Companions Survive a Pandemic?Why Mexican Cartels Use American Guns | The War On DrugsStealing from the Rich: The Modern Day Robin HoodDoes Climate Change Really Mean the End of the World?  | Let Lee ExplainThe Teenager Suing the US Government over Climate ChangeWhat happens after ISIS falls?Who’s buying all the guns? #shortsThe mysterious rays shooting at us from spaceA brief history of ISISHow to fight climate change with parking lotsHow the NRA hijacks gun control debates4 ways Americans are still getting abortion pillsThe diet that helps fight climate changeWhy US gun laws get looser after mass shootingsWhy ISIS attacked BrusselsWatch the US stall on climate change for 12 yearsWhy ISIS would attack ParisHow the rich avoid paying taxesThe law that broke US immigrationWhat Michigan\\'s Prop 3 means for abortion #shortsThe wall of eyes trained on the US - Mexico borderHow climate change makes hurricanes worseTimothy Geithner on the Great RecessionHow American CEOs got so richmRNA vaccines, explainedThe risky way to speed up a coronavirus vaccineAs if teachers\\' jobs aren\\'t hard enough, they\\'re asked to fix poverty, tooHow US abortion policy targets the poor | 2020 ElectionHow rich countries are making the pandemic last longerDo \"gun buybacks\" work?The next pandemic could come from our farmsCow burps are a climate problem. Can seaweed help? #shortsHow abortion bans make inequality worseHow will the next generation of cities address the challenges of climate change? [Ad Content]How humans are making pandemics more likelyHow the US outsourced border security to MexicoCow burps are a climate problem. Can seaweed help?Why this Russian gas company sponsors soccer teamsTwo laws that make gun violence worse  #shortsISIS videos are sickening. They’re also really effective.Why you can\\'t compare Covid-19 vaccinesWhy Top Gun won the Oscar for soundThe US broke voting records in a pandemicLyme disease is spreading. Blame ticks — and climate changeWhy seeking asylum in America is so difficultWhy Mormons identify with Syrian refugeesThe rise of ISIS, explained in 6 minutesAmericans feel passionate about abortion but don\\'t know much about itThe gun solution we\\'re not talking aboutWhat a new Supreme Court means for abortionHow gun laws get looser after mass shootings #shortsInside Top Gun: Maverick’s Oscar-winning sound design #shortsISIS is losing. Watch how and why it\\'s happening.Big questions about the Covid booster shot, answered\\'It can occur anywhere\\': NV and IL attorneys general on gun violence epidemic‘I’m pissed off’: Jason Kander reacts to mass shooting at Chiefs Super Bowl paradeWatch: Trump RICO co-defendant Harrison Floyd hearing in Fulton County, GAThe challenges Ukrainian refugees face in PolandChild poverty skyrockets a year after record low‘The existential threat of our time’: Biden\\'s export pause scores major win for climate activistsPediatricians, parents struggle to get updated Covid vaccine for kidsAlabama carries out first nitrogen gas execution\\'Tell Me When It\\'s Over\\' looks at lessons learned from the Covid-19 pandemic\\'The critical economic issue\\': Why grocery prices stay high as inflation declinesSteve Rattner: Inflation subsided and median incomes are upKansas City mayor \\'heartbroken\\' over shootingJoe: Democrats are running against GOP\\'s \\'crash the economy, open border\\' platformRep. Frost reacts to Kansas City shootingTrump’s mass deportation agenda: \\'It’s not the border… it’s mean-spirited white nationalist thread\\'Sen. Booker: Child poverty in the U.S. is a policy decisionFmr. Prosecutor: Hearing in Trump’s GA case left us with more questions than answersGiuliani could soon be “handing over his paychecks” to GA election workersUNRA Rep on Ukrainian refugees returning home: “The main obstacle to return is safety and security”\\'Hamas is worse than ISIS\\': Senior Advisor to PM NetanyahuA Chicago professor and her students are helping migrants seeking asylumGun violence is America’s ‘biggest epidemic’: Jemele Hill & Maxwell Frost on Kansas City shootingLawrence: There was a confession about leaks today in Trump\\'s GA RICO caseSen. Merkley on COP28: U.S. is ‘leading with an example that will take us to climate oblivion’Inside the fight to end period poverty“Much ado about nothing:” Trump tries to dismiss GA case‘Petri dish for terrible gun laws’: Missouri legislator reacts to Kansas City mass shootingSenator admits Biden\\'s message on economy still hasn\\'t \\'broken through\\'Hamas terrorism echoes barbaric playbook from Putin to ISIS, warns historianThe Atlantic’s Jemele Hill on gun violence\\'Alabama has done it and now so can you\\': Ala. AG praises first nitrogen gas executionJoe slams the GOP\\'s ‘crash the economy, open border\\' platformDavid French: What it would mean to treat Hamas like ISIS“Violently shaking, thrashing:” Witness details first ever nitrogen gas executionAuthors of \\'The Big Fail\\' on what the U.S. learned from the COVID-19 pandemicHow Abraham Lincoln evolved on immigrationProperty Brothers on their climate activism and new showsCedric Alexander: Officers \\'were the difference between life and death\\' in Lakewood Church shootingEconomists say recession unlikely in 2024, according to surveyKimberly Atkins Stohr: GA District Attorney Fani Wilis ‘has the right’ to defend herselfLessons from America\\'s counterterrorism missteps in Mosul‘Biden has 9 months to tell the story’: The struggle to reach voters on the economy\\'My heart is breaking\\': Claire McCaskill on Kansas City ShootingMichigan AG Dana Nessel: Jury in Jennifer Crumbley trial made clear that ‘firearms are not toys’Harris pledges $3 billion from U.S. to climate fundRet. Major Spencer: ‘Strain’ of Gaza war on Israel’s economy ‘is substantial’ and ‘takes a toll’Kevin Bacon builds essentials kits for homeless, stresses need for giving back‘Emotionally rewiring’ on the economy: What’s really worrying AmericansGOP revives Obamacare attacksTrump renews threat to repeal ObamacarePreparation for the next pandemic relies on persuasion, says authorCNBC\\'s Andrew Ross Sorkin breaks down the stats behind period povertyRussia Retaliates By Cutting Gas & Fauci Declares U.S. Out of Pandemic Phase  | The Daily ShowJust a few of America\\'s quirky laws #desilydic #abortion #shortsFlorida Bans Math Books for CRT & AriZona Iced Tea Remains 99¢ Despite Inflation | The Daily ShowPresident Biden on Mobilizing Youth, Climate Change & Human Rights | The Daily ShowPrince Andrew Kicked Out of His Mansion & Inflation Hits the Tooth Fairy | The Daily ShowEverything Is Stupid - Trendy Chicken Coops for the Rich | The Daily ShowInflation is a lot like... #dailyshow #comedy #yts #inflationDemocrats & Abortion Rights Win Big On Election Night | The Daily ShowGosar Virtually Kills AOC, TikTok Saves a Kidnapped Woman & Inflation Sets Records | The Daily ShowInflation Soars, Elon Musk Causes Twitter Drama & Shanghai Imposes Strict Lockdown | The Daily ShowThe Fight Against ISIS: The Daily ShowSen. Lindsey Graham - On Trump, the War in Ukraine & Immigration Reform | The Daily ShowJon Stewart on America’s Gun Problem & Dystopic Present | The Daily Show#RonnyChieng can’t dumb down climate change for you anymore #shortsElon Musk is rich in America, just give him what he wants. Stop oppressing him!Why America Needs Term Limits and Gun Control - Jordan Klepper After the Cut | The Daily ShowTrump\\'s \"Moderate\" Abortion Stance & Endless Shrimp Costs Red Lobster Millions | The Daily ShowRep. Maxwell Frost talks about the steps that need to be taken in order to end gun violence #shortsUkraine War Is Exposing Racial Disparities in Refugee Treatment | The Daily ShowRep. Ocasio-Cortez - House Speaker Debacle & Creating a Path to Citizenship | The Daily ShowImmigrant moms are not impressed, NASA. #TDSThrowback #shortsKatha Pollitt discusses scare tactics used to sway people against abortion #dailyshow #tdsthrowbackInflation? All time high. Milk & eggs? Through the roof. Trump merch? Priceless. #dailyshow #magaNadia Murad - Surviving ISIS and Speaking Out On Sexual Violence | The Daily Social Distancing ShowKissinger\\'s Death Sparks GOAT Debate & Trump Goes \"Moderate\" on Abortion? | The Daily ShowINSPIRING: These Republicans Talking About Obamacare in 2009 Make A Great Case for Abortion RightsBeyoncé’s Album Leaks 36 Hours Early & America Enters a Debatable Recession | The Daily ShowAmericans Can\\'t Lose Hope Around Gun Control - Between the Scenes | The Daily ShowWhile the US struggles with gun violence, Europeans have to deal with real first world problemsTrevor Shuts Down Conservatives\\' Excuses for Gun Violence | The Daily ShowTrump Asks SCOTUS for Immunity & Texas Strikes Down Abortion Exemption | The Daily ShowCenk Reacts: Money For War, None For The PoorMAGA Grandma Thinks She Knows Climate Better Than ScientistsWATCH: Nancy Pelosi GUSHES Over Biden\\'s EconomyU.S. Men Are Suffering A \\'Friendship Recession\\'DEVASTATING Failures In Uvalde Shooting Response Detailed By DOJ ReportEstablishment Ghoul: Americans Need to Lose Their Jobs To Fix InflationMAGA to Pro-Choice People: \\'Don\\'t Like Us? MOVE!!!\\'Senator Ron Johnson Stumped by Basic Inflation QuestionBiden Admin Bans Company From Selling Data On Reproduction Health Care VisitsWATCH: Mike Pence Tries To Be Cool By Pretending To Pump GasState Dept. Spokesperson GRILLED On Fatal Shooting Of Gazan With White FlagSingle Mom Of 4 EVICTED From Home After Fatally Shooting IntruderWATCH: Trump SLAMS His Own Party On AbortionA Vital Industry Is FLEEING California, Florida Due To Climate ChangeTrump Supporter Challenged on Abortion StanceNYPD Officers Assaulted By Five Asylum SeekersIsrael ADMITS Refugee Camp Bombing That Killed 86 Caused \\'Unintended Harm\\'Animal Shelters OVERRUN As Pandemic Pets Are Being ReturnedMAGA\\'s Covid Pandemic Conspiracy Theories Keep Getting Crazier & CrazierREPORT: Israeli Snipers SHOOT Civilians Entering, Leaving Gaza HospitalIsrael Tells Refugees In Rafah To Move BACK Into North Gaza #TYT\"There Is No Tennis On A Dead Planet\": Climate Change Protesters Removed After Disrupting U.S. OpenStrategists PLEAD With Republican Candidates To Temper Extreme Abortion MessagingREPORT: IDF\\'s Cruel Hospital Operation Included Shooting Doctors, Crushing BodiesCenk 60 Seconds: Gun Violence In SchoolYou\\'re Not Gonna Believe How Much Rich Men Are Paying StylistsCenk Reacts: Climate Change PSAStudy Reveals Climate Change NIGHTMARE May Now Be InevitableU.S. Marines, Afghan Civilians Killed In ISIS AttackCenk Reacts: NRA Lobbying1 Killed, 20+ Injured In Chief\\'s Super Bowl Parade ShootingCenk Breaks Down Why Corporate Price Gouging Leads To InflationRepublicans Try To Hide Brutal Anti-Abortion Policies With New LabelWATCH: Greg Gutfeld Claims AOC Is Horny For ImmigrantsTexas Supreme Court BLOCKS Emergency Abortion For Nonviable FetusCNN & Trump Gaslight on ISIS Attack in KabulWATCH: Jenna Ellis Blames EVERYONE Else While Pleading Guilty In GA Election Case'\n 'PandemicsHomelessnessEconomyShootingShootingAbortionPandemicsClimateAbortionPandemicsMexicoMexicoISISHomelessnessPandemicsGunHomelessnessPovertyClimateRichGunPandemicsGunRichClimateClimateISISGunShootingISISClimateGunAbortionClimateGunISISClimateISISRichImmigrationAbortionMexicoClimateRecessionRichVaccinationVaccinationPovertyAbortionRichGunPandemicsClimateAbortionClimatePandemicsMexicoClimateGasGunISISVaccinationGunPandemicsClimateAsylumRefugeeISISAbortionGunAbortionGunGunISISCovidGunShootingGasRefugeePovertyClimateCovidGasPandemicsInflationInflationShootingEconomyShootingDeportationPovertyGasGasRefugeeISISAsylumGunGasClimatePovertyGasGunEconomyISISGunGasEconomyISISGasPandemicsImmigrationClimateShootingRecessionGasMosulEconomyShootingFirearmClimateEconomyHomelessnessEconomyObamacareObamacarePandemicsPovertyGasAbortionInflationClimateInflationRichInflationAbortionInflationInflationISISImmigrationGunClimateRichGunAbortionGunRefugeeCitizenshipImmigrationAbortionInflationISISAbortionAbortionRecessionGunGunGunAbortionPoorClimateEconomyRecessionShootingInflationPro-choiceInflationReproductiveGasShootingShootingAbortionClimateAbortionAsylumRefugeePandemicsCovidShootingRefugeeClimateAbortionShootingGunRichClimateClimateISISNRAShootingInflationAnti-abortionImmigrationAbortionISISGas'] to numeric"
     ]
    },
    {
     "name": "stdout",
     "output_type": "stream",
     "text": [
      "Average Score per Emotion\n",
      "fear: 0.244777\n",
      "trust: 0.461603\n",
      "negative: 0.490152\n",
      "anger: 0.365426\n",
      "positive: 0.557061\n",
      "sadness: 0.671429\n",
      "anticipation: 0.595118\n",
      "surprise: 0.469841\n",
      "Error in callback <function _draw_all_if_interactive at 0x000001A6D65B4310> (for post_execute), with arguments args (),kwargs {}:\n"
     ]
    }
   ],
   "source": [
    "# Average Score per Emotion - Title\n",
    "\n",
    "# Comment Emotion Distribution Analysis\n",
    "print('Average Score per Emotion')\n",
    "emo_score = {}\n",
    "\n",
    "# Calculate and Output Emotion Percentage\n",
    "for emo in demo_df_title['TitleEmotion'].unique():\n",
    "    emo_score[emo] = demo_df_title[demo_df_title['TitleEmotion'] == emo]['TitleEmotionScore'].mean()\n",
    "    print('%s: %f' %(emo, emo_score[emo]))\n",
    "\n",
    "# Order and Plot values\n",
    "emo_score = dict(sorted(emo_score.items(), key = lambda x: x[1]))\n",
    "plt.figure(figsize=(10,6))\n",
    "plt.bar(emo_score.keys(), emo_score.values())\n",
    "plt.xlabel('Emotion')\n",
    "plt.ylabel('Title Percentage')\n",
    "plt.title('Percentage Distribution of Emotions in Title - Democratic Data');\n"
   ]
  },
  {
   "cell_type": "code",
   "execution_count": null,
   "metadata": {},
   "outputs": [],
   "source": [
    "# Comment Emotion Distribution Analysis\n",
    "print('Percentage Comment Emotion Distribution')\n",
    "emo_per = {}\n",
    "\n",
    "# Calculate and Output Emotion Percentage\n",
    "for emo in demo_df['CommentEmotion'].unique():\n",
    "    print('%s: %f' %(emo, len(demo_df[demo_df['CommentEmotion'] == emo])/len(demo_df)))\n",
    "    emo_per[emo] = len(demo_df[demo_df['CommentEmotion'] == emo])/len(demo_df)\n",
    "\n",
    "# Order and Plot values\n",
    "emo_per = dict(sorted(emo_per.items(), key = lambda x: x[1]))\n",
    "plt.figure(figsize=(10,6))\n",
    "plt.bar(emo_per.keys(), emo_per.values())\n",
    "plt.xlabel('Emotion')\n",
    "plt.ylabel('Comment Percentage')\n",
    "plt.title('Percentage Distribution of Emotions in Comments - Democratic Data');"
   ]
  },
  {
   "cell_type": "markdown",
   "metadata": {},
   "source": [
    "# Republican Data"
   ]
  },
  {
   "cell_type": "code",
   "execution_count": 45,
   "metadata": {},
   "outputs": [
    {
     "data": {
      "text/html": [
       "<div>\n",
       "<style scoped>\n",
       "    .dataframe tbody tr th:only-of-type {\n",
       "        vertical-align: middle;\n",
       "    }\n",
       "\n",
       "    .dataframe tbody tr th {\n",
       "        vertical-align: top;\n",
       "    }\n",
       "\n",
       "    .dataframe thead th {\n",
       "        text-align: right;\n",
       "    }\n",
       "</style>\n",
       "<table border=\"1\" class=\"dataframe\">\n",
       "  <thead>\n",
       "    <tr style=\"text-align: right;\">\n",
       "      <th></th>\n",
       "      <th>channel</th>\n",
       "      <th>video_id</th>\n",
       "      <th>title</th>\n",
       "      <th>keyword</th>\n",
       "      <th>published_at</th>\n",
       "      <th>CommentId</th>\n",
       "      <th>CommentTitle</th>\n",
       "      <th>CommentCreationTime</th>\n",
       "      <th>CommentLikes</th>\n",
       "    </tr>\n",
       "  </thead>\n",
       "  <tbody>\n",
       "    <tr>\n",
       "      <th>0</th>\n",
       "      <td>MSNBC</td>\n",
       "      <td>NUa9VxDpOVY</td>\n",
       "      <td>Rep. Goldman: ‘The extreme MAGA right views bi...</td>\n",
       "      <td>Extremism</td>\n",
       "      <td>2024-02-13T22:09:26Z</td>\n",
       "      <td>UgyTmquiT5dQzLQDGx14AaABAg</td>\n",
       "      <td>Thank you Rep Goldman.  My family is voting Bl...</td>\n",
       "      <td>2024-02-13T23:50:18Z</td>\n",
       "      <td>72</td>\n",
       "    </tr>\n",
       "    <tr>\n",
       "      <th>1</th>\n",
       "      <td>MSNBC</td>\n",
       "      <td>NUa9VxDpOVY</td>\n",
       "      <td>Rep. Goldman: ‘The extreme MAGA right views bi...</td>\n",
       "      <td>Extremism</td>\n",
       "      <td>2024-02-13T22:09:26Z</td>\n",
       "      <td>UgxktZJi6FWoxbQyRcl4AaABAg</td>\n",
       "      <td>Every day, I'm reminded of my good judgement i...</td>\n",
       "      <td>2024-02-13T23:53:40Z</td>\n",
       "      <td>103</td>\n",
       "    </tr>\n",
       "  </tbody>\n",
       "</table>\n",
       "</div>"
      ],
      "text/plain": [
       "  channel     video_id                                              title  \\\n",
       "0   MSNBC  NUa9VxDpOVY  Rep. Goldman: ‘The extreme MAGA right views bi...   \n",
       "1   MSNBC  NUa9VxDpOVY  Rep. Goldman: ‘The extreme MAGA right views bi...   \n",
       "\n",
       "     keyword          published_at                   CommentId  \\\n",
       "0  Extremism  2024-02-13T22:09:26Z  UgyTmquiT5dQzLQDGx14AaABAg   \n",
       "1  Extremism  2024-02-13T22:09:26Z  UgxktZJi6FWoxbQyRcl4AaABAg   \n",
       "\n",
       "                                        CommentTitle   CommentCreationTime  \\\n",
       "0  Thank you Rep Goldman.  My family is voting Bl...  2024-02-13T23:50:18Z   \n",
       "1  Every day, I'm reminded of my good judgement i...  2024-02-13T23:53:40Z   \n",
       "\n",
       "   CommentLikes  \n",
       "0            72  \n",
       "1           103  "
      ]
     },
     "execution_count": 45,
     "metadata": {},
     "output_type": "execute_result"
    }
   ],
   "source": [
    "bs_df = pd.read_csv('benshap_comments.csv')\n",
    "bs_df.head(2)"
   ]
  },
  {
   "cell_type": "code",
   "execution_count": 46,
   "metadata": {},
   "outputs": [
    {
     "data": {
      "text/html": [
       "<div>\n",
       "<style scoped>\n",
       "    .dataframe tbody tr th:only-of-type {\n",
       "        vertical-align: middle;\n",
       "    }\n",
       "\n",
       "    .dataframe tbody tr th {\n",
       "        vertical-align: top;\n",
       "    }\n",
       "\n",
       "    .dataframe thead th {\n",
       "        text-align: right;\n",
       "    }\n",
       "</style>\n",
       "<table border=\"1\" class=\"dataframe\">\n",
       "  <thead>\n",
       "    <tr style=\"text-align: right;\">\n",
       "      <th></th>\n",
       "      <th>channel</th>\n",
       "      <th>video_id</th>\n",
       "      <th>title</th>\n",
       "      <th>keyword</th>\n",
       "      <th>published_at</th>\n",
       "      <th>CommentId</th>\n",
       "      <th>CommentTitle</th>\n",
       "      <th>CommentCreationTime</th>\n",
       "      <th>CommentLikes</th>\n",
       "    </tr>\n",
       "  </thead>\n",
       "  <tbody>\n",
       "    <tr>\n",
       "      <th>0</th>\n",
       "      <td>MSNBC</td>\n",
       "      <td>NUa9VxDpOVY</td>\n",
       "      <td>Rep. Goldman: ‘The extreme MAGA right views bi...</td>\n",
       "      <td>Extremism</td>\n",
       "      <td>2024-02-13T22:09:26Z</td>\n",
       "      <td>UgyTmquiT5dQzLQDGx14AaABAg</td>\n",
       "      <td>Thank you Rep Goldman.  My family is voting Bl...</td>\n",
       "      <td>2024-02-13T23:50:18Z</td>\n",
       "      <td>72</td>\n",
       "    </tr>\n",
       "    <tr>\n",
       "      <th>1</th>\n",
       "      <td>MSNBC</td>\n",
       "      <td>NUa9VxDpOVY</td>\n",
       "      <td>Rep. Goldman: ‘The extreme MAGA right views bi...</td>\n",
       "      <td>Extremism</td>\n",
       "      <td>2024-02-13T22:09:26Z</td>\n",
       "      <td>Ugyqa2KpxMk5R1Zu-Jl4AaABAg</td>\n",
       "      <td>I cannot thank you enough Congressman Goldman,...</td>\n",
       "      <td>2024-02-14T00:35:51Z</td>\n",
       "      <td>19</td>\n",
       "    </tr>\n",
       "  </tbody>\n",
       "</table>\n",
       "</div>"
      ],
      "text/plain": [
       "  channel     video_id                                              title  \\\n",
       "0   MSNBC  NUa9VxDpOVY  Rep. Goldman: ‘The extreme MAGA right views bi...   \n",
       "1   MSNBC  NUa9VxDpOVY  Rep. Goldman: ‘The extreme MAGA right views bi...   \n",
       "\n",
       "     keyword          published_at                   CommentId  \\\n",
       "0  Extremism  2024-02-13T22:09:26Z  UgyTmquiT5dQzLQDGx14AaABAg   \n",
       "1  Extremism  2024-02-13T22:09:26Z  Ugyqa2KpxMk5R1Zu-Jl4AaABAg   \n",
       "\n",
       "                                        CommentTitle   CommentCreationTime  \\\n",
       "0  Thank you Rep Goldman.  My family is voting Bl...  2024-02-13T23:50:18Z   \n",
       "1  I cannot thank you enough Congressman Goldman,...  2024-02-14T00:35:51Z   \n",
       "\n",
       "   CommentLikes  \n",
       "0            72  \n",
       "1            19  "
      ]
     },
     "execution_count": 46,
     "metadata": {},
     "output_type": "execute_result"
    }
   ],
   "source": [
    "dm_df = pd.read_csv('dailymail_comments.csv')\n",
    "dm_df.head(2)"
   ]
  },
  {
   "cell_type": "code",
   "execution_count": 47,
   "metadata": {},
   "outputs": [
    {
     "data": {
      "text/html": [
       "<div>\n",
       "<style scoped>\n",
       "    .dataframe tbody tr th:only-of-type {\n",
       "        vertical-align: middle;\n",
       "    }\n",
       "\n",
       "    .dataframe tbody tr th {\n",
       "        vertical-align: top;\n",
       "    }\n",
       "\n",
       "    .dataframe thead th {\n",
       "        text-align: right;\n",
       "    }\n",
       "</style>\n",
       "<table border=\"1\" class=\"dataframe\">\n",
       "  <thead>\n",
       "    <tr style=\"text-align: right;\">\n",
       "      <th></th>\n",
       "      <th>channel</th>\n",
       "      <th>video_id</th>\n",
       "      <th>title</th>\n",
       "      <th>keyword</th>\n",
       "      <th>published_at</th>\n",
       "      <th>CommentId</th>\n",
       "      <th>CommentTitle</th>\n",
       "      <th>CommentCreationTime</th>\n",
       "      <th>CommentLikes</th>\n",
       "    </tr>\n",
       "  </thead>\n",
       "  <tbody>\n",
       "    <tr>\n",
       "      <th>0</th>\n",
       "      <td>MSNBC</td>\n",
       "      <td>NUa9VxDpOVY</td>\n",
       "      <td>Rep. Goldman: ‘The extreme MAGA right views bi...</td>\n",
       "      <td>Extremism</td>\n",
       "      <td>2024-02-13T22:09:26Z</td>\n",
       "      <td>UgyTmquiT5dQzLQDGx14AaABAg</td>\n",
       "      <td>Thank you Rep Goldman.  My family is voting Bl...</td>\n",
       "      <td>2024-02-13T23:50:18Z</td>\n",
       "      <td>72</td>\n",
       "    </tr>\n",
       "    <tr>\n",
       "      <th>1</th>\n",
       "      <td>MSNBC</td>\n",
       "      <td>NUa9VxDpOVY</td>\n",
       "      <td>Rep. Goldman: ‘The extreme MAGA right views bi...</td>\n",
       "      <td>Extremism</td>\n",
       "      <td>2024-02-13T22:09:26Z</td>\n",
       "      <td>Ugyqa2KpxMk5R1Zu-Jl4AaABAg</td>\n",
       "      <td>I cannot thank you enough Congressman Goldman,...</td>\n",
       "      <td>2024-02-14T00:35:51Z</td>\n",
       "      <td>19</td>\n",
       "    </tr>\n",
       "  </tbody>\n",
       "</table>\n",
       "</div>"
      ],
      "text/plain": [
       "  channel     video_id                                              title  \\\n",
       "0   MSNBC  NUa9VxDpOVY  Rep. Goldman: ‘The extreme MAGA right views bi...   \n",
       "1   MSNBC  NUa9VxDpOVY  Rep. Goldman: ‘The extreme MAGA right views bi...   \n",
       "\n",
       "     keyword          published_at                   CommentId  \\\n",
       "0  Extremism  2024-02-13T22:09:26Z  UgyTmquiT5dQzLQDGx14AaABAg   \n",
       "1  Extremism  2024-02-13T22:09:26Z  Ugyqa2KpxMk5R1Zu-Jl4AaABAg   \n",
       "\n",
       "                                        CommentTitle   CommentCreationTime  \\\n",
       "0  Thank you Rep Goldman.  My family is voting Bl...  2024-02-13T23:50:18Z   \n",
       "1  I cannot thank you enough Congressman Goldman,...  2024-02-14T00:35:51Z   \n",
       "\n",
       "   CommentLikes  \n",
       "0            72  \n",
       "1            19  "
      ]
     },
     "execution_count": 47,
     "metadata": {},
     "output_type": "execute_result"
    }
   ],
   "source": [
    "dw_df = pd.read_csv('dailywire_comments.csv')\n",
    "dw_df.head(2)"
   ]
  },
  {
   "cell_type": "code",
   "execution_count": null,
   "metadata": {},
   "outputs": [],
   "source": []
  },
  {
   "cell_type": "code",
   "execution_count": null,
   "metadata": {},
   "outputs": [],
   "source": []
  },
  {
   "cell_type": "code",
   "execution_count": null,
   "metadata": {},
   "outputs": [],
   "source": []
  },
  {
   "cell_type": "code",
   "execution_count": null,
   "metadata": {},
   "outputs": [],
   "source": []
  },
  {
   "cell_type": "code",
   "execution_count": null,
   "metadata": {},
   "outputs": [],
   "source": []
  },
  {
   "cell_type": "code",
   "execution_count": null,
   "metadata": {},
   "outputs": [],
   "source": []
  },
  {
   "cell_type": "code",
   "execution_count": null,
   "metadata": {},
   "outputs": [],
   "source": []
  },
  {
   "cell_type": "code",
   "execution_count": null,
   "metadata": {},
   "outputs": [],
   "source": []
  },
  {
   "cell_type": "code",
   "execution_count": null,
   "metadata": {},
   "outputs": [],
   "source": []
  }
 ],
 "metadata": {
  "kernelspec": {
   "display_name": "Python 3",
   "language": "python",
   "name": "python3"
  },
  "language_info": {
   "codemirror_mode": {
    "name": "ipython",
    "version": 3
   },
   "file_extension": ".py",
   "mimetype": "text/x-python",
   "name": "python",
   "nbconvert_exporter": "python",
   "pygments_lexer": "ipython3",
   "version": "3.10.5"
  }
 },
 "nbformat": 4,
 "nbformat_minor": 2
}
