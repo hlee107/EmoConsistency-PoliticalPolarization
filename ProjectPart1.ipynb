{
 "cells": [
  {
   "cell_type": "markdown",
   "id": "d05df723",
   "metadata": {},
   "source": [
    "# Emotional Consistency among Political Ideologies: An Approach to Address Polarization on Youtube\n",
    "\n",
    "## Group 5\n",
    "### Chance Landis (ChancL), Hanna Lee (Lee10), Jason Sun (yongxs), Andy Wong (WongA22)"
   ]
  },
  {
   "cell_type": "code",
   "execution_count": null,
   "id": "9cd1c321",
   "metadata": {},
   "outputs": [],
   "source": []
  },
  {
   "cell_type": "code",
   "execution_count": null,
   "id": "69c68a73",
   "metadata": {},
   "outputs": [],
   "source": []
  }
 ],
 "metadata": {
  "kernelspec": {
   "display_name": "Python [conda env:root] *",
   "language": "python",
   "name": "conda-root-py"
  },
  "language_info": {
   "codemirror_mode": {
    "name": "ipython",
    "version": 3
   },
   "file_extension": ".py",
   "mimetype": "text/x-python",
   "name": "python",
   "nbconvert_exporter": "python",
   "pygments_lexer": "ipython3",
   "version": "3.9.12"
  }
 },
 "nbformat": 4,
 "nbformat_minor": 5
}
