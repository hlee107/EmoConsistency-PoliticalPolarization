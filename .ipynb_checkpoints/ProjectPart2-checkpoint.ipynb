{
 "cells": [
  {
   "cell_type": "markdown",
   "metadata": {},
   "source": [
    "# Emotional Consistency among Political Ideologies: An Approach to Address Polarization on Youtube\n",
    "\n",
    "Group 5:\n",
    "- Chance Landis (ChancL), Hanna Lee (Lee10), Jason Sun (YongXs), Andy Wong (WongA22)"
   ]
  },
  {
   "cell_type": "markdown",
   "metadata": {},
   "source": [
    "## Credit Listing\n",
    "- Hanna: Democratic-leaning Channels Data Collection\n",
    "- Chance: Republican-leaning Channels Data Collection\n",
    "- Andy: Exploratory Data Analysis\n",
    "- Jason: Text Documentation\n",
    "\n",
    "## Problem Statement\n",
    "We want to figure out whether the current political polarization is associated with the emotional values expressed by each party. Due to the current politically charged environment of our country, the semblance of sympathizing toward a value that is not related to your political party causes backlash. This fear of backlash can create a “false” polarized environment, which is an extension of the fear itself. The question that arises is whether these boundaries are reinforced by the people themselves and/or  external factors, like social media.\n",
    "\n",
    "## Research Question\n",
    "1. Do political parties exhibit similar emotional responses to differing ideologies?\n",
    "\n",
    "## Data Collection\n",
    "To investigate this topic, we will analyze content from the top five YouTube channels associated with Democratic and Republican viewpoints, based on subscriber counts. The channels selected for the study are:\n",
    "\n",
    "- **Democratic-leaning Channels**: Vice, Vox, MSNBC, The Daily Show, The Young Turks\n",
    "- **Republican-leaning Channels**: Fox News, Ben Shapiro, Steven Crowder, The Daily Mail, The Daily Wire\n",
    "\n",
    "We have identified eight key ideologies for this analysis to understand if there are emotional differences in how political parties discuss these topics. For each ideology, a set of keywords has been established to facilitate data scraping:\n",
    "a\n",
    "- **ISIS**: Terrorism, Extremism, Radical\n",
    "- **Guns**: Shootings, School shooting, Firearms, Gun control, NRA, Second Amendment\n",
    "- **Immigration**: Border control, Mexico, Visa /Citizenship, Asylum, Deportation, Refugee\n",
    "- **Economy**: Budget deficit, Unemployment, Inflation, Interest rate, Federal Reserve, Market, Employment\n",
    "- **Health care**: Medicaid, Covid, Obamacare, Public health, Insurance\n",
    "- **Socio-economic**: Rich / poor, Income inequality, Poverty, Wealth distribution\n",
    "- **Abortion**: Pregnancy, Unwanted Pregnancy, Roe, Wade, Abortion, Pro-life, Rape, Incest, Life of mother, Religion\n",
    "- **Climate change**: Global Warming, Carbo, Alternative Energy, Climate, Methane, Emissions, Gas, Greenhouse"
   ]
  },
  {
   "cell_type": "markdown",
   "metadata": {},
   "source": [
    "### Sources of Information\n",
    "- **AllSides**: A media bias tool that provides a rating based on \"multi-partisan Editorial Reviews by trained experts and Blind Bias Surveys™ in which participants rate content without knowing the source.\" We used this tool to determine how we should classify the most popular (based on subscriber count) YouTube channels we found. (Source: https://www.allsides.com/media-bias/media-bias-rating-methods)\n",
    "- **HypeAuitor**: A company that uses a data-driven approach to influencer marketing. In the process, they collated lists of YouTube based on category, subscriber count, and country. This allowed us to find YouTube channels that focused on news and politics with the most subscribers. (Source: https://hypeauditor.com/about/company/, https://hypeauditor.com/top-youtube-news-politics-united-states/)\n",
    "- **Pew Research Center**: A nonpartisan, nonprofit organization that conducts research on public opinion, demographic trends, and social issues. It provides data-driven insights into various aspects of social science issues, explicitly stating they do not take a stance on political issues. For our research, we relied on their studies on political ideologies and alignment with political parties as a reference. (Source: https://www.pewresearch.org/about/, https://www.pewresearch.org/politics/2016/06/22/5-views-of-parties-positions-on-issues-ideologies/)\n",
    "- **YouTube**: As a group, we've chosen to expand our collection of YouTube videos by selecting additional keywords associated with the ideology we're studying. Our focus will be on gathering comments from these videos to conduct our research.\n",
    "    - We used a combination of Andy and Hanna's code to get the comments from YouTube channels."
   ]
  },
  {
   "cell_type": "code",
   "execution_count": 58,
   "metadata": {},
   "outputs": [],
   "source": [
    "# imports\n",
    "import json\n",
    "import pandas as pd\n",
    "\n",
    "import nltk\n",
    "\n",
    "import googleapiclient\n",
    "import googleapiclient.discovery\n",
    "import googleapiclient.errors\n",
    "from googleapiclient.errors import HttpError\n",
    "\n",
    "import re\n",
    "import datetime\n",
    "from datetime import datetime\n",
    "from nltk.corpus import stopwords\n",
    "from nltk.stem import PorterStemmer\n",
    "from nltk.tokenize import word_tokenize\n",
    "from nltk.tokenize import casual\n",
    "\n",
    "from nrclex import NRCLex\n",
    "\n",
    "import matplotlib.pyplot as plt"
   ]
  },
  {
   "cell_type": "code",
   "execution_count": 5,
   "metadata": {},
   "outputs": [],
   "source": [
    "# Function for Text Cleaning\n",
    "def textcleaner(row):\n",
    "    row = str(row)\n",
    "    row = row.lower()\n",
    "    # remove punctuation\n",
    "    row = re.sub(r'[^\\w\\s]', '', row)\n",
    "    #remove urls\n",
    "    row  = re.sub(r'http\\S+', '', row)\n",
    "    #remove mentions\n",
    "    row = re.sub(r\"(?<![@\\w])@(\\w{1,25})\", '', row)\n",
    "    #remove hashtags\n",
    "    row = re.sub(r\"(?<![#\\w])#(\\w{1,25})\", '',row)\n",
    "    #remove other special characters\n",
    "    row = re.sub('[^A-Za-z .-]+', '', row)\n",
    "        #remove digits\n",
    "    row = re.sub('\\d+', '', row)\n",
    "    row = row.strip(\" \")\n",
    "    row = re.sub('\\s+', ' ', row)\n",
    "    return row\n",
    "    \n",
    "# Function for Stopword Removal\n",
    "stopeng = set(stopwords.words('english'))\n",
    "def remove_stop(text):\n",
    "    try:\n",
    "        words = text.split(' ')\n",
    "        valid = [x for x in words if x not in stopeng]\n",
    "        return(' '.join(valid))\n",
    "    except AttributeError:\n",
    "        return('')\n",
    "\n",
    "# Function for Checking NRC Lexicon Sentiment (Pos / Neg)\n",
    "def nrc_sen(text, cat):\n",
    "    sen = NRCLex(text)\n",
    "    if cat == 'pos':\n",
    "        return sen.affect_frequencies['positive']\n",
    "    else:\n",
    "        return sen.affect_frequencies['negative']\n",
    "    \n",
    "# Function for checking NRC Lexicon Emotion (Returns highest emotion)\n",
    "def nrc_emo(text, ver):\n",
    "    emo = NRCLex(text).affect_frequencies\n",
    "    max_emo = max(emo, key=emo.get)\n",
    "    max_score = emo[max_emo]\n",
    "    if ver == 'score':\n",
    "        return max_score\n",
    "    else:\n",
    "        return max_emo"
   ]
  },
  {
   "cell_type": "markdown",
   "metadata": {},
   "source": [
    "# Democratic Data"
   ]
  },
  {
   "cell_type": "code",
   "execution_count": 29,
   "metadata": {},
   "outputs": [
    {
     "data": {
      "text/html": [
       "<div>\n",
       "<style scoped>\n",
       "    .dataframe tbody tr th:only-of-type {\n",
       "        vertical-align: middle;\n",
       "    }\n",
       "\n",
       "    .dataframe tbody tr th {\n",
       "        vertical-align: top;\n",
       "    }\n",
       "\n",
       "    .dataframe thead th {\n",
       "        text-align: right;\n",
       "    }\n",
       "</style>\n",
       "<table border=\"1\" class=\"dataframe\">\n",
       "  <thead>\n",
       "    <tr style=\"text-align: right;\">\n",
       "      <th></th>\n",
       "      <th>channel</th>\n",
       "      <th>id</th>\n",
       "      <th>title</th>\n",
       "      <th>keyword</th>\n",
       "      <th>published_at</th>\n",
       "      <th>VideoViews</th>\n",
       "      <th>VideoId</th>\n",
       "      <th>CommentId</th>\n",
       "      <th>CommentTitle</th>\n",
       "      <th>CommentCreationTime</th>\n",
       "      <th>CommentLikes</th>\n",
       "    </tr>\n",
       "  </thead>\n",
       "  <tbody>\n",
       "    <tr>\n",
       "      <th>0</th>\n",
       "      <td>Vice</td>\n",
       "      <td>qX_aaRepdIM</td>\n",
       "      <td>Running a Nightclub During a Pandemic</td>\n",
       "      <td>Pandemics</td>\n",
       "      <td>2020-09-23T19:00:18Z</td>\n",
       "      <td>137070</td>\n",
       "      <td>qX_aaRepdIM</td>\n",
       "      <td>UgyT8lzHq4KG18pbEAx4AaABAg</td>\n",
       "      <td>A lot of businesses are struggling. The ones t...</td>\n",
       "      <td>2020-09-23T19:56:07Z</td>\n",
       "      <td>75</td>\n",
       "    </tr>\n",
       "    <tr>\n",
       "      <th>1</th>\n",
       "      <td>Vice</td>\n",
       "      <td>qX_aaRepdIM</td>\n",
       "      <td>Running a Nightclub During a Pandemic</td>\n",
       "      <td>Pandemics</td>\n",
       "      <td>2020-09-23T19:00:18Z</td>\n",
       "      <td>137070</td>\n",
       "      <td>qX_aaRepdIM</td>\n",
       "      <td>UgwWciuwhjWJtn5p2B54AaABAg</td>\n",
       "      <td>Damn the World really sucks now.\\nLooking forw...</td>\n",
       "      <td>2020-09-23T20:42:39Z</td>\n",
       "      <td>89</td>\n",
       "    </tr>\n",
       "    <tr>\n",
       "      <th>2</th>\n",
       "      <td>Vice</td>\n",
       "      <td>qX_aaRepdIM</td>\n",
       "      <td>Running a Nightclub During a Pandemic</td>\n",
       "      <td>Pandemics</td>\n",
       "      <td>2020-09-23T19:00:18Z</td>\n",
       "      <td>137070</td>\n",
       "      <td>qX_aaRepdIM</td>\n",
       "      <td>UgxAbD9h5oBPSxaRgvN4AaABAg</td>\n",
       "      <td>Sadly I think at least 50% of clubs, bars and ...</td>\n",
       "      <td>2020-09-24T08:16:30Z</td>\n",
       "      <td>45</td>\n",
       "    </tr>\n",
       "    <tr>\n",
       "      <th>3</th>\n",
       "      <td>Vice</td>\n",
       "      <td>qX_aaRepdIM</td>\n",
       "      <td>Running a Nightclub During a Pandemic</td>\n",
       "      <td>Pandemics</td>\n",
       "      <td>2020-09-23T19:00:18Z</td>\n",
       "      <td>137070</td>\n",
       "      <td>qX_aaRepdIM</td>\n",
       "      <td>Ugx5ivt655zG1cctmVJ4AaABAg</td>\n",
       "      <td>I love Plant. It was one of the highlights to ...</td>\n",
       "      <td>2020-09-27T21:20:05Z</td>\n",
       "      <td>4</td>\n",
       "    </tr>\n",
       "    <tr>\n",
       "      <th>4</th>\n",
       "      <td>Vice</td>\n",
       "      <td>qX_aaRepdIM</td>\n",
       "      <td>Running a Nightclub During a Pandemic</td>\n",
       "      <td>Pandemics</td>\n",
       "      <td>2020-09-23T19:00:18Z</td>\n",
       "      <td>137070</td>\n",
       "      <td>qX_aaRepdIM</td>\n",
       "      <td>UgztX1erPMN0W9t8tWZ4AaABAg</td>\n",
       "      <td>\"AKA DJ Bowlcut\" lmao 😂😅😅</td>\n",
       "      <td>2020-09-23T19:31:59Z</td>\n",
       "      <td>53</td>\n",
       "    </tr>\n",
       "  </tbody>\n",
       "</table>\n",
       "</div>"
      ],
      "text/plain": [
       "  channel           id                                  title    keyword  \\\n",
       "0    Vice  qX_aaRepdIM  Running a Nightclub During a Pandemic  Pandemics   \n",
       "1    Vice  qX_aaRepdIM  Running a Nightclub During a Pandemic  Pandemics   \n",
       "2    Vice  qX_aaRepdIM  Running a Nightclub During a Pandemic  Pandemics   \n",
       "3    Vice  qX_aaRepdIM  Running a Nightclub During a Pandemic  Pandemics   \n",
       "4    Vice  qX_aaRepdIM  Running a Nightclub During a Pandemic  Pandemics   \n",
       "\n",
       "           published_at  VideoViews      VideoId                   CommentId  \\\n",
       "0  2020-09-23T19:00:18Z      137070  qX_aaRepdIM  UgyT8lzHq4KG18pbEAx4AaABAg   \n",
       "1  2020-09-23T19:00:18Z      137070  qX_aaRepdIM  UgwWciuwhjWJtn5p2B54AaABAg   \n",
       "2  2020-09-23T19:00:18Z      137070  qX_aaRepdIM  UgxAbD9h5oBPSxaRgvN4AaABAg   \n",
       "3  2020-09-23T19:00:18Z      137070  qX_aaRepdIM  Ugx5ivt655zG1cctmVJ4AaABAg   \n",
       "4  2020-09-23T19:00:18Z      137070  qX_aaRepdIM  UgztX1erPMN0W9t8tWZ4AaABAg   \n",
       "\n",
       "                                        CommentTitle   CommentCreationTime  \\\n",
       "0  A lot of businesses are struggling. The ones t...  2020-09-23T19:56:07Z   \n",
       "1  Damn the World really sucks now.\\nLooking forw...  2020-09-23T20:42:39Z   \n",
       "2  Sadly I think at least 50% of clubs, bars and ...  2020-09-24T08:16:30Z   \n",
       "3  I love Plant. It was one of the highlights to ...  2020-09-27T21:20:05Z   \n",
       "4                          \"AKA DJ Bowlcut\" lmao 😂😅😅  2020-09-23T19:31:59Z   \n",
       "\n",
       "   CommentLikes  \n",
       "0            75  \n",
       "1            89  \n",
       "2            45  \n",
       "3             4  \n",
       "4            53  "
      ]
     },
     "execution_count": 29,
     "metadata": {},
     "output_type": "execute_result"
    }
   ],
   "source": [
    "# Data Loading + Preview\n",
    "demo_df = pd.read_csv('democrat_comments.csv')\n",
    "demo_df.head()"
   ]
  },
  {
   "cell_type": "code",
   "execution_count": 30,
   "metadata": {},
   "outputs": [
    {
     "name": "stdout",
     "output_type": "stream",
     "text": [
      "DF Dimensions: (11662, 11)\n",
      "channel: <class 'str'>\n",
      "id: <class 'str'>\n",
      "title: <class 'str'>\n",
      "keyword: <class 'str'>\n",
      "published_at: <class 'str'>\n",
      "VideoViews: <class 'numpy.int64'>\n",
      "VideoId: <class 'str'>\n",
      "CommentId: <class 'str'>\n",
      "CommentTitle: <class 'str'>\n",
      "CommentCreationTime: <class 'str'>\n",
      "CommentLikes: <class 'numpy.int64'>\n"
     ]
    }
   ],
   "source": [
    "# Basic DF Properties\n",
    "print('DF Dimensions: ' + str(demo_df.shape))\n",
    "for row in demo_df:\n",
    "    print('%s: ' %row + str(type(demo_df[row][0])))"
   ]
  },
  {
   "cell_type": "code",
   "execution_count": 31,
   "metadata": {},
   "outputs": [
    {
     "name": "stdout",
     "output_type": "stream",
     "text": [
      "Rows with NaN: 0\n"
     ]
    }
   ],
   "source": [
    "# Check for NaN and drop NaN\n",
    "print('Rows with NaN: ' + str(sum(demo_df.isna().sum(axis=1))))\n",
    "demo_df = demo_df.dropna()"
   ]
  },
  {
   "cell_type": "code",
   "execution_count": 32,
   "metadata": {},
   "outputs": [
    {
     "name": "stdout",
     "output_type": "stream",
     "text": [
      "Title Example:\n",
      "Running a Nightclub During a Pandemic\n",
      "\n",
      "Comment Example\n",
      "A lot of businesses are struggling. The ones that aren’t struggling as much are banks and grocery stores.\n"
     ]
    }
   ],
   "source": [
    "# Change date columns to a date type\n",
    "demo_df['published_at'] = demo_df['published_at'].apply(lambda x: datetime.strptime(str(x)[0:10], '%Y-%m-%d').date())\n",
    "demo_df['CommentCreationTime'] = demo_df['CommentCreationTime'].apply(lambda x: datetime.strptime(str(x)[0:10], '%Y-%m-%d').date())\n",
    "print('Title Example:')\n",
    "print(demo_df['title'][0])\n",
    "print()\n",
    "print('Comment Example')\n",
    "print(demo_df['CommentTitle'][0])"
   ]
  },
  {
   "cell_type": "code",
   "execution_count": 36,
   "metadata": {},
   "outputs": [
    {
     "name": "stdout",
     "output_type": "stream",
     "text": [
      "Title Example:\n",
      "['Running', 'a', 'Nightclub', 'During', 'a', 'Pandemic']\n",
      "\n",
      "Comment Example\n",
      "['A', 'lot', 'of', 'businesses', 'are', 'struggling', '.', 'The', 'ones', 'that', 'aren', '’', 't', 'struggling', 'as', 'much', 'are', 'banks', 'and', 'grocery', 'stores', '.']\n"
     ]
    }
   ],
   "source": [
    "# Tokenize\n",
    "demo_df['TitleToken'] = demo_df['title'].apply(lambda x: casual.TweetTokenizer().tokenize(x))\n",
    "demo_df['CommentToken'] = demo_df['CommentTitle'].apply(lambda x: casual.TweetTokenizer().tokenize(x))\n",
    "print('Title Example:')\n",
    "print(demo_df['TitleToken'][0])\n",
    "print()\n",
    "print('Comment Example')\n",
    "print(demo_df['CommentToken'][0])"
   ]
  },
  {
   "cell_type": "code",
   "execution_count": 37,
   "metadata": {},
   "outputs": [
    {
     "name": "stdout",
     "output_type": "stream",
     "text": [
      "Title Example:\n",
      "running nightclub pandemic\n",
      "\n",
      "Comment Example\n",
      "lot businesses struggling ones struggling much banks grocery stores\n"
     ]
    }
   ],
   "source": [
    "# Clean text\n",
    "demo_df['TitleCleaned'] = demo_df['TitleToken'].apply(lambda x: remove_stop(textcleaner(x)))\n",
    "demo_df['CommentCleaned'] = demo_df['CommentToken'].apply(lambda x: remove_stop(textcleaner(x)))\n",
    "print('Title Example:')\n",
    "print(demo_df['TitleCleaned'][0])\n",
    "print()\n",
    "print('Comment Example')\n",
    "print(demo_df['CommentCleaned'][0])"
   ]
  },
  {
   "cell_type": "code",
   "execution_count": 39,
   "metadata": {},
   "outputs": [
    {
     "data": {
      "text/html": [
       "<div>\n",
       "<style scoped>\n",
       "    .dataframe tbody tr th:only-of-type {\n",
       "        vertical-align: middle;\n",
       "    }\n",
       "\n",
       "    .dataframe tbody tr th {\n",
       "        vertical-align: top;\n",
       "    }\n",
       "\n",
       "    .dataframe thead th {\n",
       "        text-align: right;\n",
       "    }\n",
       "</style>\n",
       "<table border=\"1\" class=\"dataframe\">\n",
       "  <thead>\n",
       "    <tr style=\"text-align: right;\">\n",
       "      <th></th>\n",
       "      <th>TitleCleaned</th>\n",
       "      <th>TitlePos</th>\n",
       "      <th>TitleNeg</th>\n",
       "      <th>CommentCleaned</th>\n",
       "      <th>CommentPos</th>\n",
       "      <th>CommentNeg</th>\n",
       "    </tr>\n",
       "  </thead>\n",
       "  <tbody>\n",
       "    <tr>\n",
       "      <th>0</th>\n",
       "      <td>running nightclub pandemic</td>\n",
       "      <td>0.0</td>\n",
       "      <td>0.333333</td>\n",
       "      <td>lot businesses struggling ones struggling much...</td>\n",
       "      <td>0.0</td>\n",
       "      <td>0.0</td>\n",
       "    </tr>\n",
       "  </tbody>\n",
       "</table>\n",
       "</div>"
      ],
      "text/plain": [
       "                 TitleCleaned  TitlePos  TitleNeg  \\\n",
       "0  running nightclub pandemic       0.0  0.333333   \n",
       "\n",
       "                                      CommentCleaned  CommentPos  CommentNeg  \n",
       "0  lot businesses struggling ones struggling much...         0.0         0.0  "
      ]
     },
     "execution_count": 39,
     "metadata": {},
     "output_type": "execute_result"
    }
   ],
   "source": [
    "# Calculate Positivity/Negativity Scores for Titles and Comments\n",
    "demo_df['TitlePos'] = demo_df['TitleCleaned'].apply(lambda x: nrc_sen(x, 'pos'))\n",
    "demo_df['TitleNeg'] = demo_df['TitleCleaned'].apply(lambda x: nrc_sen(x, 'neg'))    \n",
    "demo_df['CommentPos'] = demo_df['CommentCleaned'].apply(lambda x: nrc_sen(x, 'pos'))    \n",
    "demo_df['CommentNeg'] = demo_df['CommentCleaned'].apply(lambda x: nrc_sen(x, 'neg'))        \n",
    "demo_df[['TitleCleaned', 'TitlePos', 'TitleNeg', 'CommentCleaned', 'CommentPos', 'CommentNeg']].head(1)"
   ]
  },
  {
   "cell_type": "code",
   "execution_count": 40,
   "metadata": {},
   "outputs": [
    {
     "data": {
      "text/html": [
       "<div>\n",
       "<style scoped>\n",
       "    .dataframe tbody tr th:only-of-type {\n",
       "        vertical-align: middle;\n",
       "    }\n",
       "\n",
       "    .dataframe tbody tr th {\n",
       "        vertical-align: top;\n",
       "    }\n",
       "\n",
       "    .dataframe thead th {\n",
       "        text-align: right;\n",
       "    }\n",
       "</style>\n",
       "<table border=\"1\" class=\"dataframe\">\n",
       "  <thead>\n",
       "    <tr style=\"text-align: right;\">\n",
       "      <th></th>\n",
       "      <th>TitleCleaned</th>\n",
       "      <th>TitleEmotion</th>\n",
       "      <th>TitleEmotionScore</th>\n",
       "      <th>CommentCleaned</th>\n",
       "      <th>CommentEmotion</th>\n",
       "      <th>CommentEmotionScore</th>\n",
       "    </tr>\n",
       "  </thead>\n",
       "  <tbody>\n",
       "    <tr>\n",
       "      <th>0</th>\n",
       "      <td>running nightclub pandemic</td>\n",
       "      <td>fear</td>\n",
       "      <td>0.333333</td>\n",
       "      <td>lot businesses struggling ones struggling much...</td>\n",
       "      <td>fear</td>\n",
       "      <td>0.0</td>\n",
       "    </tr>\n",
       "  </tbody>\n",
       "</table>\n",
       "</div>"
      ],
      "text/plain": [
       "                 TitleCleaned TitleEmotion  TitleEmotionScore  \\\n",
       "0  running nightclub pandemic         fear           0.333333   \n",
       "\n",
       "                                      CommentCleaned CommentEmotion  \\\n",
       "0  lot businesses struggling ones struggling much...           fear   \n",
       "\n",
       "   CommentEmotionScore  \n",
       "0                  0.0  "
      ]
     },
     "execution_count": 40,
     "metadata": {},
     "output_type": "execute_result"
    }
   ],
   "source": [
    "# Calculate Emotion Scores for Titles and Comments\n",
    "demo_df['TitleEmotion'] = demo_df['TitleCleaned'].apply(lambda x: nrc_emo(x, 'emo'))\n",
    "demo_df['TitleEmotionScore'] = demo_df['TitleCleaned'].apply(lambda x: nrc_emo(x, 'score'))    \n",
    "demo_df['CommentEmotion'] = demo_df['CommentCleaned'].apply(lambda x: nrc_emo(x, 'emo'))\n",
    "demo_df['CommentEmotionScore'] = demo_df['CommentCleaned'].apply(lambda x: nrc_emo(x, 'score'))    \n",
    "demo_df[['TitleCleaned', 'TitleEmotion', 'TitleEmotionScore', 'CommentCleaned', 'CommentEmotion', 'CommentEmotionScore']].head(1)"
   ]
  },
  {
   "cell_type": "markdown",
   "metadata": {},
   "source": [
    "# Democratic Data Analysis"
   ]
  },
  {
   "cell_type": "code",
   "execution_count": 91,
   "metadata": {},
   "outputs": [
    {
     "name": "stdout",
     "output_type": "stream",
     "text": [
      "Percentage Title Emotion Distribution\n",
      "fear: 0.482673\n",
      "trust: 0.217822\n",
      "negative: 0.143564\n",
      "anger: 0.034653\n",
      "positive: 0.071782\n",
      "sadness: 0.009901\n",
      "anticipation: 0.022277\n",
      "surprise: 0.017327\n"
     ]
    },
    {
     "data": {
      "image/png": "[encoded data removed]",
      "text/plain": [
       "<Figure size 1000x600 with 1 Axes>"
      ]
     },
     "metadata": {},
     "output_type": "display_data"
    }
   ],
   "source": [
    "# Drop Duplicate Title Points\n",
    "demo_df_title = demo_df.drop_duplicates(subset=['title'])\n",
    "\n",
    "# Comment Emotion Distribution Analysis\n",
    "print('Percentage Title Emotion Distribution')\n",
    "emo_per = {}\n",
    "\n",
    "# Calculate and Output Emotion Percentage\n",
    "for emo in demo_df_title['TitleEmotion'].unique():\n",
    "    emo_per[emo] = len(demo_df_title[demo_df_title['TitleEmotion'] == emo])/len(demo_df_title)\n",
    "    print('%s: %f' %(emo, emo_per[emo]))\n",
    "\n",
    "# Order and Plot values\n",
    "emo_per = dict(sorted(emo_per.items(), key = lambda x: x[1]))\n",
    "plt.figure(figsize=(10,6))\n",
    "plt.bar(emo_per.keys(), emo_per.values())\n",
    "plt.xlabel('Emotion')\n",
    "plt.ylabel('Title Percentage')\n",
    "plt.title('Percentage Distribution of Emotions in Title - Democratic Data');\n"
   ]
  },
  {
   "cell_type": "code",
   "execution_count": 92,
   "metadata": {},
   "outputs": [
    {
     "name": "stdout",
     "output_type": "stream",
     "text": [
      "Percentage Comment Emotion Distribution\n",
      "fear: 0.315641\n",
      "anger: 0.048276\n",
      "positive: 0.260676\n",
      "surprise: 0.026668\n",
      "negative: 0.131624\n",
      "trust: 0.177414\n",
      "anticipation: 0.032413\n",
      "sadness: 0.005659\n",
      "disgust: 0.001458\n",
      "joy: 0.000171\n"
     ]
    },
    {
     "data": {
      "image/png": "[encoded data removed]",
      "text/plain": [
       "<Figure size 1000x600 with 1 Axes>"
      ]
     },
     "metadata": {},
     "output_type": "display_data"
    }
   ],
   "source": [
    "# Comment Emotion Distribution Analysis\n",
    "print('Percentage Comment Emotion Distribution')\n",
    "emo_per = {}\n",
    "\n",
    "# Calculate and Output Emotion Percentage\n",
    "for emo in demo_df['CommentEmotion'].unique():\n",
    "    emo_per[emo] = len(demo_df[demo_df['CommentEmotion'] == emo])/len(demo_df)\n",
    "    print('%s: %f' %(emo, emo_per[emo]))\n",
    "\n",
    "# Order and Plot values\n",
    "emo_per = dict(sorted(emo_per.items(), key = lambda x: x[1]))\n",
    "plt.figure(figsize=(10,6))\n",
    "plt.bar(emo_per.keys(), emo_per.values())\n",
    "plt.xlabel('Emotion')\n",
    "plt.ylabel('Comment Percentage')\n",
    "plt.title('Percentage Distribution of Emotions in Comments - Democratic Data');"
   ]
  },
  {
   "cell_type": "code",
   "execution_count": 95,
   "metadata": {},
   "outputs": [
    {
     "name": "stdout",
     "output_type": "stream",
     "text": [
      "Average Score per Emotion\n",
      "fear: 0.244777\n",
      "trust: 0.461603\n",
      "negative: 0.490152\n",
      "anger: 0.365426\n",
      "positive: 0.557061\n",
      "sadness: 0.671429\n",
      "anticipation: 0.595118\n",
      "surprise: 0.469841\n"
     ]
    },
    {
     "data": {
      "image/png": "[encoded data removed]",
      "text/plain": [
       "<Figure size 1000x600 with 1 Axes>"
      ]
     },
     "metadata": {},
     "output_type": "display_data"
    }
   ],
   "source": [
    "# Average Score per Emotion - Title\n",
    "\n",
    "# Comment Emotion Distribution Analysis\n",
    "print('Average Score per Emotion')\n",
    "emo_score = {}\n",
    "\n",
    "# Calculate and Output Emotion Percentage\n",
    "for emo in demo_df_title['TitleEmotion'].unique():\n",
    "    emo_score[emo] = demo_df_title[demo_df_title['TitleEmotion'] == emo]['TitleEmotionScore'].mean()\n",
    "    print('%s: %f' %(emo, emo_score[emo]))\n",
    "\n",
    "# Order and Plot values\n",
    "emo_score = dict(sorted(emo_score.items(), key = lambda x: x[1]))\n",
    "plt.figure(figsize=(10,6))\n",
    "plt.bar(emo_score.keys(), emo_score.values())\n",
    "plt.xlabel('Emotion')\n",
    "plt.ylabel('Average Title Emotion Score')\n",
    "plt.title('Average Score of Emotions in Title - Democratic Data');\n"
   ]
  },
  {
   "cell_type": "code",
   "execution_count": 94,
   "metadata": {},
   "outputs": [
    {
     "name": "stdout",
     "output_type": "stream",
     "text": [
      "Average Score per Emotion\n",
      "fear: 0.141956\n",
      "anger: 0.270329\n",
      "positive: 0.455382\n",
      "surprise: 0.471574\n",
      "negative: 0.421710\n",
      "trust: 0.378929\n",
      "anticipation: 0.618005\n",
      "sadness: 0.405323\n",
      "disgust: 0.486010\n",
      "joy: 0.365079\n"
     ]
    },
    {
     "data": {
      "image/png": "[encoded data removed]",
      "text/plain": [
       "<Figure size 1000x600 with 1 Axes>"
      ]
     },
     "metadata": {},
     "output_type": "display_data"
    }
   ],
   "source": [
    "# Average Score per Emotion - Comment\n",
    "\n",
    "# Comment Emotion Distribution Analysis\n",
    "print('Average Score per Emotion')\n",
    "emo_score = {}\n",
    "\n",
    "# Calculate and Output Emotion Percentage\n",
    "for emo in demo_df['CommentEmotion'].unique():\n",
    "    emo_score[emo] = demo_df[demo_df['CommentEmotion'] == emo]['CommentEmotionScore'].mean()\n",
    "    print('%s: %f' %(emo, emo_score[emo]))\n",
    "\n",
    "# Order and Plot values\n",
    "emo_score = dict(sorted(emo_score.items(), key = lambda x: x[1]))\n",
    "plt.figure(figsize=(10,6))\n",
    "plt.bar(emo_score.keys(), emo_score.values())\n",
    "plt.xlabel('Emotion')\n",
    "plt.ylabel('Average Comment Emotion Score')\n",
    "plt.title('Average Score of Emotions in Comment - Democratic Data');\n"
   ]
  },
  {
   "cell_type": "markdown",
   "metadata": {},
   "source": [
    "# Republican Data"
   ]
  },
  {
   "cell_type": "code",
   "execution_count": 45,
   "metadata": {},
   "outputs": [
    {
     "data": {
      "text/html": [
       "<div>\n",
       "<style scoped>\n",
       "    .dataframe tbody tr th:only-of-type {\n",
       "        vertical-align: middle;\n",
       "    }\n",
       "\n",
       "    .dataframe tbody tr th {\n",
       "        vertical-align: top;\n",
       "    }\n",
       "\n",
       "    .dataframe thead th {\n",
       "        text-align: right;\n",
       "    }\n",
       "</style>\n",
       "<table border=\"1\" class=\"dataframe\">\n",
       "  <thead>\n",
       "    <tr style=\"text-align: right;\">\n",
       "      <th></th>\n",
       "      <th>channel</th>\n",
       "      <th>video_id</th>\n",
       "      <th>title</th>\n",
       "      <th>keyword</th>\n",
       "      <th>published_at</th>\n",
       "      <th>CommentId</th>\n",
       "      <th>CommentTitle</th>\n",
       "      <th>CommentCreationTime</th>\n",
       "      <th>CommentLikes</th>\n",
       "    </tr>\n",
       "  </thead>\n",
       "  <tbody>\n",
       "    <tr>\n",
       "      <th>0</th>\n",
       "      <td>MSNBC</td>\n",
       "      <td>NUa9VxDpOVY</td>\n",
       "      <td>Rep. Goldman: ‘The extreme MAGA right views bi...</td>\n",
       "      <td>Extremism</td>\n",
       "      <td>2024-02-13T22:09:26Z</td>\n",
       "      <td>UgyTmquiT5dQzLQDGx14AaABAg</td>\n",
       "      <td>Thank you Rep Goldman.  My family is voting Bl...</td>\n",
       "      <td>2024-02-13T23:50:18Z</td>\n",
       "      <td>72</td>\n",
       "    </tr>\n",
       "    <tr>\n",
       "      <th>1</th>\n",
       "      <td>MSNBC</td>\n",
       "      <td>NUa9VxDpOVY</td>\n",
       "      <td>Rep. Goldman: ‘The extreme MAGA right views bi...</td>\n",
       "      <td>Extremism</td>\n",
       "      <td>2024-02-13T22:09:26Z</td>\n",
       "      <td>UgxktZJi6FWoxbQyRcl4AaABAg</td>\n",
       "      <td>Every day, I'm reminded of my good judgement i...</td>\n",
       "      <td>2024-02-13T23:53:40Z</td>\n",
       "      <td>103</td>\n",
       "    </tr>\n",
       "  </tbody>\n",
       "</table>\n",
       "</div>"
      ],
      "text/plain": [
       "  channel     video_id                                              title  \\\n",
       "0   MSNBC  NUa9VxDpOVY  Rep. Goldman: ‘The extreme MAGA right views bi...   \n",
       "1   MSNBC  NUa9VxDpOVY  Rep. Goldman: ‘The extreme MAGA right views bi...   \n",
       "\n",
       "     keyword          published_at                   CommentId  \\\n",
       "0  Extremism  2024-02-13T22:09:26Z  UgyTmquiT5dQzLQDGx14AaABAg   \n",
       "1  Extremism  2024-02-13T22:09:26Z  UgxktZJi6FWoxbQyRcl4AaABAg   \n",
       "\n",
       "                                        CommentTitle   CommentCreationTime  \\\n",
       "0  Thank you Rep Goldman.  My family is voting Bl...  2024-02-13T23:50:18Z   \n",
       "1  Every day, I'm reminded of my good judgement i...  2024-02-13T23:53:40Z   \n",
       "\n",
       "   CommentLikes  \n",
       "0            72  \n",
       "1           103  "
      ]
     },
     "execution_count": 45,
     "metadata": {},
     "output_type": "execute_result"
    }
   ],
   "source": [
    "bs_df = pd.read_csv('benshap_comments.csv')\n",
    "bs_df.head(2)"
   ]
  },
  {
   "cell_type": "code",
   "execution_count": 46,
   "metadata": {},
   "outputs": [
    {
     "data": {
      "text/html": [
       "<div>\n",
       "<style scoped>\n",
       "    .dataframe tbody tr th:only-of-type {\n",
       "        vertical-align: middle;\n",
       "    }\n",
       "\n",
       "    .dataframe tbody tr th {\n",
       "        vertical-align: top;\n",
       "    }\n",
       "\n",
       "    .dataframe thead th {\n",
       "        text-align: right;\n",
       "    }\n",
       "</style>\n",
       "<table border=\"1\" class=\"dataframe\">\n",
       "  <thead>\n",
       "    <tr style=\"text-align: right;\">\n",
       "      <th></th>\n",
       "      <th>channel</th>\n",
       "      <th>video_id</th>\n",
       "      <th>title</th>\n",
       "      <th>keyword</th>\n",
       "      <th>published_at</th>\n",
       "      <th>CommentId</th>\n",
       "      <th>CommentTitle</th>\n",
       "      <th>CommentCreationTime</th>\n",
       "      <th>CommentLikes</th>\n",
       "    </tr>\n",
       "  </thead>\n",
       "  <tbody>\n",
       "    <tr>\n",
       "      <th>0</th>\n",
       "      <td>MSNBC</td>\n",
       "      <td>NUa9VxDpOVY</td>\n",
       "      <td>Rep. Goldman: ‘The extreme MAGA right views bi...</td>\n",
       "      <td>Extremism</td>\n",
       "      <td>2024-02-13T22:09:26Z</td>\n",
       "      <td>UgyTmquiT5dQzLQDGx14AaABAg</td>\n",
       "      <td>Thank you Rep Goldman.  My family is voting Bl...</td>\n",
       "      <td>2024-02-13T23:50:18Z</td>\n",
       "      <td>72</td>\n",
       "    </tr>\n",
       "    <tr>\n",
       "      <th>1</th>\n",
       "      <td>MSNBC</td>\n",
       "      <td>NUa9VxDpOVY</td>\n",
       "      <td>Rep. Goldman: ‘The extreme MAGA right views bi...</td>\n",
       "      <td>Extremism</td>\n",
       "      <td>2024-02-13T22:09:26Z</td>\n",
       "      <td>Ugyqa2KpxMk5R1Zu-Jl4AaABAg</td>\n",
       "      <td>I cannot thank you enough Congressman Goldman,...</td>\n",
       "      <td>2024-02-14T00:35:51Z</td>\n",
       "      <td>19</td>\n",
       "    </tr>\n",
       "  </tbody>\n",
       "</table>\n",
       "</div>"
      ],
      "text/plain": [
       "  channel     video_id                                              title  \\\n",
       "0   MSNBC  NUa9VxDpOVY  Rep. Goldman: ‘The extreme MAGA right views bi...   \n",
       "1   MSNBC  NUa9VxDpOVY  Rep. Goldman: ‘The extreme MAGA right views bi...   \n",
       "\n",
       "     keyword          published_at                   CommentId  \\\n",
       "0  Extremism  2024-02-13T22:09:26Z  UgyTmquiT5dQzLQDGx14AaABAg   \n",
       "1  Extremism  2024-02-13T22:09:26Z  Ugyqa2KpxMk5R1Zu-Jl4AaABAg   \n",
       "\n",
       "                                        CommentTitle   CommentCreationTime  \\\n",
       "0  Thank you Rep Goldman.  My family is voting Bl...  2024-02-13T23:50:18Z   \n",
       "1  I cannot thank you enough Congressman Goldman,...  2024-02-14T00:35:51Z   \n",
       "\n",
       "   CommentLikes  \n",
       "0            72  \n",
       "1            19  "
      ]
     },
     "execution_count": 46,
     "metadata": {},
     "output_type": "execute_result"
    }
   ],
   "source": [
    "dm_df = pd.read_csv('dailymail_comments.csv')\n",
    "dm_df.head(2)"
   ]
  },
  {
   "cell_type": "code",
   "execution_count": 47,
   "metadata": {},
   "outputs": [
    {
     "data": {
      "text/html": [
       "<div>\n",
       "<style scoped>\n",
       "    .dataframe tbody tr th:only-of-type {\n",
       "        vertical-align: middle;\n",
       "    }\n",
       "\n",
       "    .dataframe tbody tr th {\n",
       "        vertical-align: top;\n",
       "    }\n",
       "\n",
       "    .dataframe thead th {\n",
       "        text-align: right;\n",
       "    }\n",
       "</style>\n",
       "<table border=\"1\" class=\"dataframe\">\n",
       "  <thead>\n",
       "    <tr style=\"text-align: right;\">\n",
       "      <th></th>\n",
       "      <th>channel</th>\n",
       "      <th>video_id</th>\n",
       "      <th>title</th>\n",
       "      <th>keyword</th>\n",
       "      <th>published_at</th>\n",
       "      <th>CommentId</th>\n",
       "      <th>CommentTitle</th>\n",
       "      <th>CommentCreationTime</th>\n",
       "      <th>CommentLikes</th>\n",
       "    </tr>\n",
       "  </thead>\n",
       "  <tbody>\n",
       "    <tr>\n",
       "      <th>0</th>\n",
       "      <td>MSNBC</td>\n",
       "      <td>NUa9VxDpOVY</td>\n",
       "      <td>Rep. Goldman: ‘The extreme MAGA right views bi...</td>\n",
       "      <td>Extremism</td>\n",
       "      <td>2024-02-13T22:09:26Z</td>\n",
       "      <td>UgyTmquiT5dQzLQDGx14AaABAg</td>\n",
       "      <td>Thank you Rep Goldman.  My family is voting Bl...</td>\n",
       "      <td>2024-02-13T23:50:18Z</td>\n",
       "      <td>72</td>\n",
       "    </tr>\n",
       "    <tr>\n",
       "      <th>1</th>\n",
       "      <td>MSNBC</td>\n",
       "      <td>NUa9VxDpOVY</td>\n",
       "      <td>Rep. Goldman: ‘The extreme MAGA right views bi...</td>\n",
       "      <td>Extremism</td>\n",
       "      <td>2024-02-13T22:09:26Z</td>\n",
       "      <td>Ugyqa2KpxMk5R1Zu-Jl4AaABAg</td>\n",
       "      <td>I cannot thank you enough Congressman Goldman,...</td>\n",
       "      <td>2024-02-14T00:35:51Z</td>\n",
       "      <td>19</td>\n",
       "    </tr>\n",
       "  </tbody>\n",
       "</table>\n",
       "</div>"
      ],
      "text/plain": [
       "  channel     video_id                                              title  \\\n",
       "0   MSNBC  NUa9VxDpOVY  Rep. Goldman: ‘The extreme MAGA right views bi...   \n",
       "1   MSNBC  NUa9VxDpOVY  Rep. Goldman: ‘The extreme MAGA right views bi...   \n",
       "\n",
       "     keyword          published_at                   CommentId  \\\n",
       "0  Extremism  2024-02-13T22:09:26Z  UgyTmquiT5dQzLQDGx14AaABAg   \n",
       "1  Extremism  2024-02-13T22:09:26Z  Ugyqa2KpxMk5R1Zu-Jl4AaABAg   \n",
       "\n",
       "                                        CommentTitle   CommentCreationTime  \\\n",
       "0  Thank you Rep Goldman.  My family is voting Bl...  2024-02-13T23:50:18Z   \n",
       "1  I cannot thank you enough Congressman Goldman,...  2024-02-14T00:35:51Z   \n",
       "\n",
       "   CommentLikes  \n",
       "0            72  \n",
       "1            19  "
      ]
     },
     "execution_count": 47,
     "metadata": {},
     "output_type": "execute_result"
    }
   ],
   "source": [
    "dw_df = pd.read_csv('dailywire_comments.csv')\n",
    "dw_df.head(2)"
   ]
  },
  {
   "cell_type": "code",
   "execution_count": null,
   "metadata": {},
   "outputs": [],
   "source": []
  },
  {
   "cell_type": "code",
   "execution_count": null,
   "metadata": {},
   "outputs": [],
   "source": []
  },
  {
   "cell_type": "code",
   "execution_count": null,
   "metadata": {},
   "outputs": [],
   "source": []
  },
  {
   "cell_type": "code",
   "execution_count": null,
   "metadata": {},
   "outputs": [],
   "source": []
  },
  {
   "cell_type": "code",
   "execution_count": null,
   "metadata": {},
   "outputs": [],
   "source": []
  },
  {
   "cell_type": "code",
   "execution_count": null,
   "metadata": {},
   "outputs": [],
   "source": []
  },
  {
   "cell_type": "code",
   "execution_count": null,
   "metadata": {},
   "outputs": [],
   "source": []
  },
  {
   "cell_type": "code",
   "execution_count": null,
   "metadata": {},
   "outputs": [],
   "source": []
  },
  {
   "cell_type": "code",
   "execution_count": null,
   "metadata": {},
   "outputs": [],
   "source": []
  }
 ],
 "metadata": {
  "kernelspec": {
   "display_name": "Python [conda env:root] *",
   "language": "python",
   "name": "conda-root-py"
  },
  "language_info": {
   "codemirror_mode": {
    "name": "ipython",
    "version": 3
   },
   "file_extension": ".py",
   "mimetype": "text/x-python",
   "name": "python",
   "nbconvert_exporter": "python",
   "pygments_lexer": "ipython3",
   "version": "3.9.12"
  }
 },
 "nbformat": 4,
 "nbformat_minor": 2
}
